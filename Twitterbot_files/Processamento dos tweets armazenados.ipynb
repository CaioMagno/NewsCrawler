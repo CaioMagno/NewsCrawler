{
 "cells": [
  {
   "cell_type": "code",
   "execution_count": 1,
   "metadata": {
    "collapsed": true
   },
   "outputs": [],
   "source": [
    "import pymysql, pandas, numpy"
   ]
  },
  {
   "cell_type": "code",
   "execution_count": 3,
   "metadata": {
    "collapsed": true
   },
   "outputs": [],
   "source": [
    "connection = pymysql.connect(host = 'localhost', user = 'root', password = '12345', db = 'twitter_database')\n",
    "cursor = connection.cursor()"
   ]
  },
  {
   "cell_type": "code",
   "execution_count": 5,
   "metadata": {
    "collapsed": false
   },
   "outputs": [],
   "source": [
    "statement = \"SELECT * FROM newswire_tweets WHERE news_agency = 'g1politica'\"\n",
    "result = cursor.execute(statement)"
   ]
  },
  {
   "cell_type": "code",
   "execution_count": 9,
   "metadata": {
    "collapsed": false
   },
   "outputs": [
    {
     "name": "stdout",
     "output_type": "stream",
     "text": [
      "(1, '968595629839659011', 'g1politica', 'https://t.co/9KVistvQGW', '27/02/2018', 'Saiba como políticos reagiram à troca de comando na Polícia Federal ', 0, 0, '')\n",
      "(2, '968596135723061248', 'g1politica', 'https://t.co/Rga5Lfeqku', '27/02/2018', 'Irmão de ex-deputado André Vargas é preso por determinação de Moro para início de cumprimento de pena ', 0, 0, '')\n",
      "(3, '968603182648750081', 'g1politica', 'https://t.co/YpjYRYIfh6', '27/02/2018', 'Delator diz que Raupp pediu contratação de sobrinho pela Odebrecht; senador nega ', 0, 0, '')\n",
      "(6, '968609731806887936', 'g1politica', 'https://t.co/uQhDE2o7Kp', '27/02/2018', 'Troca no comando da Polícia Federal afirma força de Jungmann ', 0, 0, '')\n",
      "(7, '968610226227372032', 'g1politica', 'https://t.co/evQY8zLych', '27/02/2018', 'Permanência de Segovia iria ofuscar ação do novo ministério da Segurança ', 0, 0, '')\n",
      "(8, '968611751481749504', 'g1politica', 'https://t.co/FhY6MnOVlT', '27/02/2018', 'Novo diretor-geral, Galloro é visto na Polícia Federal como cauteloso e discreto ', 0, 0, '')\n",
      "(11, '968617785814372352', 'g1politica', 'https://t.co/2UNnDWNcVi', '27/02/2018', 'Fernando Segovia: relembre a polêmica causada pela declaração sobre inquérito contra Temer ', 0, 0, '')\n",
      "(12, '968622307244695552', 'g1politica', 'https://t.co/iZIF80dEIX', '27/02/2018', 'STJ mantém ex-primeira-dama do Rio Adriana Ancelmo em prisão domiciliar ', 0, 0, '')\n",
      "(14, '968626332895711232', 'g1politica', 'https://t.co/ubE5MYZJNx', '27/02/2018', 'Primeira Turma do STF aceita denúncia e torna réu o senador Wellington Fagundes ', 0, 0, '')\n",
      "(15, '968633896752558081', 'g1politica', 'https://t.co/7Eo9RJZy5B', '27/02/2018', 'Segunda Turma do Supremo pede explicações à PGR sobre vazamento de delações da Odebrecht ', 0, 0, '')\n",
      "(17, '968640931325980672', 'g1politica', 'https://t.co/swvcjwaNCw', '28/02/2018', 'Câmara aprova MP que retira parte das exigências a estados e municípios que renegociarem dívidas ', 0, 0, '')\n",
      "(19, '968650498655051776', 'g1politica', 'https://t.co/2M8eX1kqmb', '28/02/2018', \"Galloro reúne 'todas as condições' para comandar PF, diz entidade de delegados \", 0, 0, '')\n",
      "(20, '968659048659869697', 'g1politica', 'https://t.co/8BZMCHHOxw', '28/02/2018', 'Após três meses de espera, PF cobra de Eunício informações sobre quem esteve na residência oficial do Senado ', 0, 0, '')\n",
      "(26, '968667610832363520', 'g1politica', 'https://t.co/1Sbr7SR31E', '28/02/2018', 'Câmara aprova MP que regulamenta microcrédito para pequeno empreendedor ', 0, 0, '')\n",
      "(27, '968667613634195456', 'g1politica', 'https://t.co/N3IAdnK9Tk', '28/02/2018', 'Senado aprova projeto que proíbe uso de recursos do Funpen em outras áreas ', 0, 0, '')\n",
      "(33, '968683208333242369', 'g1politica', 'https://t.co/wWuC2DuyXx', '28/02/2018', 'Desafio do novo diretor-geral da PF é blindar equipes de investigação, dizem delegados ', 0, 0, '')\n",
      "(40, '968631369176887297', 'g1politica', 'https://t.co/PeTy99s161', '27/02/2018', 'RJ: Jungmann critica quem reclama da insegurança de dia e consome drogas à noite ', 62, 158, '')\n",
      "(41, '968813080737189889', 'g1politica', 'https://t.co/NwD4IaC2Ed', '28/02/2018', 'Cármen Lúcia vai apresentar monitoramento das prisões brasileiras a Raul Jungmann ', 0, 0, '')\n",
      "(42, '968548339372392453', 'g1politica', 'https://t.co/WuEwZKpF0P', '27/02/2018', 'Conselho de Ética instaura processo que pode levar à cassação de Lúcio Vieira Lima ', 6, 11, '')\n",
      "(46, '968817088101044225', 'g1politica', 'https://t.co/pDQEeoFfVx', '28/02/2018', \"Mendes: 'faz sentido' que Temer não seja investigado em inquérito com fatos de 2014 \", 0, 0, '')\n",
      "(47, '968820615271649282', 'g1politica', 'https://t.co/zm70VxW0vq', '28/02/2018', 'Temer discute decreto para detalhar ações da intervenção no Rio ', 0, 0, '')\n",
      "(48, '968821119489896448', 'g1politica', 'https://t.co/X9o6IDJvFm', '28/02/2018', \"Em depoimento, Joesley Batista afirma que Marcelo Miller foi apresentado como 'ex-procurador', diz advogado \", 0, 0, '')\n",
      "(51, '968851822957006853', 'g1politica', 'https://t.co/WG9KFMPMvD', '28/02/2018', \"Jungmann defende direitos de presos e critica 'atalhos fora da lei' para a crise carcerária \", 0, 2, '')\n",
      "(53, '968835736672890880', 'g1politica', 'https://t.co/56CvkCbBIb', '28/02/2018', 'Após depoimento de Saud sobre fazenda, Temer se reúne com Paulinho da Força ', 11, 9, '')\n",
      "(54, '968865919144427520', 'g1politica', 'https://t.co/im63l2d1Vp', '28/02/2018', 'Fachin nega medidas cautelares contra irmão e mãe de Geddel ', 0, 0, '')\n",
      "(56, '968874470856372225', 'g1politica', 'https://t.co/P7P5uCQwF4', '28/02/2018', 'Criação do Sistema Integrado de Segurança será votada em regime de urgência no Congresso, afirmam Eunício e Maia ...', 0, 0, '')\n",
      "(58, '968879507728928768', 'g1politica', 'https://t.co/AnrAPfBHwU', '28/02/2018', \"'Jamais antecipei julgamento', diz Barroso em resposta a Gilmar Mendes \", 2, 4, '')\n",
      "(66, '968902655216111617', 'g1politica', 'https://t.co/WIEsqDDMuq', '28/02/2018', 'TRF-4 nega novo pedido da defesa de Lula para afastar Moro de processo da Lava Jato ', 0, 0, '')\n",
      "(67, '968905173820170240', 'g1politica', 'https://t.co/Bl3A7VgLI3', '28/02/2018', 'Senador protocola pedido de criação de CPI para investigar juros do cartão de crédito ', 0, 0, '')\n",
      "(73, '969051131782615040', 'g1politica', 'https://t.co/WKQrCeWlmH', '01/03/2018', 'Polícia Legislativa investigará suposto desvio de dinheiro de deputados que contribuíam para plano de previdência ...', 0, 0, '')\n",
      "(77, '969170419533209601', 'g1politica', 'https://t.co/VDfmfoBjI8', '01/03/2018', 'Ex-diretor-geral da PF, Fernando Segovia, será adido em Roma ', 0, 0, '')\n",
      "(81, '969176456428482562', 'g1politica', 'https://t.co/ASH4LKBI5P', '01/03/2018', 'Lula diz que vai brigar até ganhar a eleição; Jungmann garante que Lava Jato continua prioridade. Jornais de quinta\\x85 ', 0, 0, '')\n",
      "(86, '968957015598010368', 'g1politica', 'https://t.co/T1DAaBAxHv', '28/02/2018', \"Temer diz que não vai 'tolerar' acusações de que praticou atos de corrupção \", 6, 8, '')\n",
      "(88, '969164383992602624', 'g1politica', 'https://t.co/YqEHw6Pg2V', '01/03/2018', 'Temer e Alexandre de Moraes debatem segurança pública ', 3, 3, '')\n",
      "(91, '969277638413115393', 'g1politica', 'https://t.co/Hfw4WaNEBv', '01/03/2018', 'Dodge é contra ida de Argôlo ao semiaberto sem pagamento de multa imposta pela Justiça ', 0, 0, '')\n",
      "(97, '969283162860859393', 'g1politica', 'https://t.co/eEygpvdWSP', '01/03/2018', 'STF decide que transexual poderá mudar registro civil sem necessidade de cirurgia ', 0, 0, '')\n",
      "(104, '969296261416390657', 'g1politica', 'https://t.co/FXc8OWH4x4', '01/03/2018', 'Veja avaliação de governadores sobre o plano de investimentos em segurança anunciado pelo governo federal ', 0, 0, '')\n",
      "(111, '969308338214326272', 'g1politica', 'https://t.co/0B4QmMq3Kg', '01/03/2018', 'Supremo homologa acordo entre poupadores e bancos sobre planos econômicos ', 0, 0, '')\n",
      "(112, '969308830092767232', 'g1politica', 'https://t.co/0B4QmM8slG', '01/03/2018', 'STF homologa acordo entre poupadores e bancos sobre planos econômicos ', 0, 0, '')\n",
      "(113, '969309331182190594', 'g1politica', 'https://t.co/0B4QmMq3Kg', '01/03/2018', 'STF homologa acordo entre poupadores e bancos sobre planos econômicos ', 0, 0, '')\n",
      "(126, '969532817804800002', 'g1politica', 'https://t.co/8plP0wudiK', '02/03/2018', \"PF conclui que deputado Vander Loubet cometeu crime ao receber 'caixa 3' na eleição de 2010 \", 0, 0, '')\n",
      "(134, '969545393427177472', 'g1politica', 'https://t.co/ZITadWygay', '02/03/2018', 'Temer discute com aliados o nome de um civil para comandar Ministério da Defesa ', 0, 0, '')\n",
      "(135, '969493049863700480', 'g1politica', 'https://t.co/hhJbPMlMLW', '02/03/2018', 'PIB cresce 1%, mas economia é a mesma de 2011; Brasil gera 77,8 mil empregos. Jornais de sexta (2) ', 5, 6, '')\n",
      "(137, '969404479710916608', 'g1politica', 'https://t.co/UFOMLQQhVS', '02/03/2018', 'PSB abre congresso que deve reconduzir Carlos Siqueira à presidência do partido ', 1, 5, '')\n",
      "(138, '969347093088305153', 'g1politica', 'https://t.co/UGvIQygldM', '01/03/2018', 'Galloro convoca primeira reunião com nova equipe e superintendentes da PF ', 1, 10, '')\n",
      "(139, '969346078427504640', 'g1politica', 'https://t.co/UGvIQygldM', '01/03/2018', 'Galoro convoca primeira reunião com nova equipe e superintendentes da PF ', 1, 5, '')\n",
      "(140, '969341550781255680', 'g1politica', 'https://t.co/VNTj1N0I1a', '01/03/2018', 'Desembargador reclama de demora do STJ em processo da Caixa de Pandora ', 10, 9, '')\n",
      "(141, '969340551978987520', 'g1politica', 'https://t.co/pdakLKIcGm', '01/03/2018', 'Por apoio, Planalto deflagra reforma ministerial com ultimato aos aliados ', 1, 1, '')\n",
      "(142, '969333002479259648', 'g1politica', 'https://t.co/tUuwyh47NH', '01/03/2018', 'STF mantém aplicação da Ficha Limpa a políticos condenados por abuso antes de 2010 ', 17, 52, '')\n",
      "(143, '969322423882534912', 'g1politica', 'https://t.co/Q71OHdccRz', '01/03/2018', 'MPF pede prisão preventiva pela terceira vez de ex-diretor do DER-PR detido na 48ª fase da Lava Jato ', 10, 13, '')\n",
      "(144, '969273096208252928', 'g1politica', 'https://t.co/LMoMG8pkBj', '01/03/2018', 'Confira pontos do projeto que cria o Sistema Único de Segurança Pública ', 3, 5, '')\n",
      "(145, '969260519503867905', 'g1politica', 'https://t.co/S6NmXP5wzU', '01/03/2018', 'PGR cobra R$ 63 milhões de Marcelo Odebrecht em acordo de colaboração ', 4, 8, '')\n",
      "(146, '969259508693393410', 'g1politica', 'https://t.co/7nPUNwfxIZ', '01/03/2018', 'Processo de Lula na Operação Zelotes volta para o juiz original, informa Justiça Federal ', 7, 13, '')\n",
      "(147, '969254968321560577', 'g1politica', 'https://t.co/wLr0IKuqDk', '01/03/2018', \"Conselho inclui na política sobre drogas que a população é 'majoritariamente contrária' a legalizações \", 5, 9, '')\n",
      "(148, '969237868471349249', 'g1politica', 'https://t.co/9OXnMRDDeT', '01/03/2018', 'Premiação vai reconhecer boas práticas para cumprimento de metas de desenvolvimento da ONU ', 0, 0, '')\n",
      "(149, '969226794690842624', 'g1politica', 'https://t.co/ELXXmvvB1a', '01/03/2018', 'Eunício entrega a Jungmann projeto que cria Sistema Integrado de Segurança Pública ', 2, 3, '')\n",
      "(150, '969225288470102021', 'g1politica', 'https://t.co/kHJrUXKR3H', '01/03/2018', 'Temer diz a governadores que poderá dar ajuda financeira para reequipar polícias estaduais ', 2, 6, '')\n",
      "(151, '969224276816617474', 'g1politica', 'https://t.co/K5x40vAKXj', '01/03/2018', 'TSE aprova verificação de voto impresso em parte das urnas nas eleições deste ano ', 5, 10, '')\n",
      "(152, '969222772282089475', 'g1politica', 'https://t.co/KaeoqXMbUN', '01/03/2018', 'Transgêneros e travestis entram nas cotas de gênero nas eleições, decide TSE ', 8, 1, '')\n",
      "(153, '969219243777589248', 'g1politica', 'https://t.co/JF8lLxZPh1', '01/03/2018', 'Maia diz que proposta que cria Sistema Integrado de Segurança Pública está pronta e vai a votação na semana... ', 3, 3, '')\n",
      "(154, '969211185768861696', 'g1politica', 'https://t.co/mF8iNLsbyl', '01/03/2018', 'Meirelles comemora volta do crescimento como garantia de crescimento de 3% em 2018 ', 1, 5, '')\n",
      "(155, '969209678499581952', 'g1politica', 'https://t.co/3iTjsvztkN', '01/03/2018', 'Temer recebe governadores, ministros e presidentes de STF, Câmara e Senado para discutir segurança pública ', 1, 4, '')\n",
      "(156, '969207161942413313', 'g1politica', 'https://t.co/gfaBHH3jN5', '01/03/2018', \"PIB de 2017 representa um 'novo ciclo de crescimento', diz ministro do Planejamento \", 1, 2, '')\n",
      "(157, '969207158666616832', 'g1politica', 'https://t.co/XNC5fY10GC', '01/03/2018', 'Novo diretor-geral da PF toma posse nesta sexta ', 0, 4, '')\n",
      "(158, '969197602691481600', 'g1politica', 'https://t.co/2pZ2FDhhmg', '01/03/2018', \"Temer diz que Previdência 'não saiu da pauta' e que intervenção pode terminar 'em setembro ou outubro' \", 1, 3, '')\n",
      "(159, '969188540050493442', 'g1politica', 'https://t.co/DQZTOvczfm', '01/03/2018', 'Temer deve anunciar linha do BNDES para investimentos em segurança para Estados ', 8, 4, '')\n",
      "(160, '969120587955212288', 'g1politica', 'https://t.co/6JLM1PELE5', '01/03/2018', 'Nova etapa de perícias nos benefícios do INSS começa nesta quinta; 85 mil já estão agendadas ', 5, 8, '')\n",
      "(161, '969120585094778880', 'g1politica', 'https://t.co/utPZwCqmEO', '01/03/2018', 'Temer recebe nesta quinta governadores, ministros e presidentes de STF, Câmara e Senado para discutir segurança púb\\x85 ', 3, 7, '')\n",
      "(162, '969032505226682368', 'g1politica', 'https://t.co/tnrOGn0ayu', '01/03/2018', 'Galloro escolhe delegados para diretorias da Polícia Federal e submete nomes ao aval do ministro Jungmann ', 7, 13, '')\n",
      "(163, '969004331847553024', 'g1politica', 'https://t.co/xYMetoliLV', '01/03/2018', 'Câmara analisa projeto que regulamenta aplicativos de transporte como Uber ', 0, 6, '')\n",
      "(164, '969002812142178305', 'g1politica', '', '01/03/2018', 'Advogados de Marcelo Odebrecht entregam mais de 40 e-mails a Moro e dizem que mensagens comprovam a relação da Odebrecht com Lula https...', 107, 238, '')\n",
      "(165, '968992749738393600', 'g1politica', 'https://t.co/axLufPyVxC', '28/02/2018', 'PF tem 600 cargos vagos para delegados e outros 2 mil a agentes, diz diretor de gestão ', 14, 22, '')\n",
      "(166, '968984704002265089', 'g1politica', 'https://t.co/TOnD7xnZj2', '28/02/2018', 'Conselho Monetário determina que juros do Fies sejam vinculados a taxa usada pelo BNDES ', 4, 10, '')\n",
      "(167, '968982181593919488', 'g1politica', 'https://t.co/mjAr6AaK0d', '28/02/2018', \"Moody's deve rebaixar nota brasileira até semana que vem, avalia governo \", 4, 5, '')\n",
      "(168, '968981678180925440', 'g1politica', 'https://t.co/mjAr6AaK0d', '28/02/2018', 'Moody\\x92s deve rebaixar nota brasileira até semana que vem, avalia governo ', 4, 7, '')\n",
      "(169, '968975135456808960', 'g1politica', 'https://t.co/u4cGN9P3Qa', '28/02/2018', 'Senado aprova MP que regulamenta microcrédito para pequeno empreendedor ', 1, 7, '')\n",
      "(170, '968970097976070152', 'g1politica', 'https://t.co/RLYlIszUfo', '28/02/2018', 'Senado aprova projeto que atribui à PF investigações sobre milícias integradas por agentes de segurança ', 7, 16, '')\n",
      "(171, '968967583180484610', 'g1politica', 'https://t.co/NbWFAgnVSe', '28/02/2018', 'Maioria do STF vota a favor de transexual poder mudar registro civil sem necessidade de cirurgia ', 12, 28, '')\n",
      "(172, '968965579687321600', 'g1politica', 'https://t.co/i4a6FFhL9W', '28/02/2018', 'CCJ aumenta pena para crimes de injúria cometidos por razões de gênero ou orientação sexual ', 7, 11, '')\n",
      "(173, '968960540197511171', 'g1politica', 'https://t.co/MbBmPUTheP', '28/02/2018', 'Senado aprova MP que prorroga prazo de adesão a programa de renegociação de dívidas previdenciárias rurais ', 3, 4, '')\n",
      "(174, '968957521598799873', 'g1politica', 'https://t.co/ED4Pbfv1r3', '28/02/2018', 'LAVA JATO: entenda a denúncia sobre a Transpetro ', 3, 5, '')\n",
      "(175, '968957013001678848', 'g1politica', 'https://t.co/zgwfK1p5Cq', '28/02/2018', 'Câmara aprova penas mais duras para furto a caixas eletrônicos com uso de explosivo ', 1, 7, '')\n",
      "(176, '968956516328931329', 'g1politica', 'https://t.co/zgwfK1p5Cq', '28/02/2018', 'Câmara aprova penas mais duras para furto a caixa eletrônico com uso de explosivos ', 6, 14, '')\n",
      "(177, '968956002824609793', 'g1politica', 'https://t.co/zgwfK1p5Cq', '28/02/2018', 'Câmara aprova penas mais duras para coibir uso de explosivo em roubo a caixa eletrônico ', 3, 10, '')\n",
      "(178, '968945943960748034', 'g1politica', 'https://t.co/tkrD59DgX5', '28/02/2018', 'Senado aprova MP que retira parte das exigências a estados e municípios que renegociarem dívidas ', 0, 6, '')\n",
      "(179, '968944940079374336', 'g1politica', 'https://t.co/AySSiTLKIK', '28/02/2018', 'STJ adia para 6 de março julgamento de pedido da defesa para impedir prisão de Lula ', 3, 9, '')\n",
      "(180, '968944429049569280', 'g1politica', 'https://t.co/AySSiTLKIK', '28/02/2018', 'STJ adia análise de habeas corpus da defesa de Lula para 6 de março ', 3, 9, '')\n",
      "(181, '968944426415480833', 'g1politica', 'https://t.co/aOTObdgtA2', '28/02/2018', 'Procuradores defendem anulação da decisão que resultou na troca de juízes em processos de Lula, Cunha e Geddel ', 38, 52, '')\n",
      "(182, '968941911133380608', 'g1politica', 'https://t.co/YY441CHrsH', '28/02/2018', 'Temer diz que deu autonomia a Jungmann para montar equipe; Segovia irá para a Itália ', 4, 9, '')\n",
      "(183, '968934367392337920', 'g1politica', 'https://t.co/PDFVIfAaZZ', '28/02/2018', 'MP apura eventual irregularidade na compra de medicamentos de alto custo pelo Ministério da Saúde ', 6, 6, '')\n",
      "(184, '968930842469859329', 'g1politica', 'https://t.co/aSlSZFH8Bd', '28/02/2018', 'STF decide manter anistia do Código Florestal ', 5, 3, '')\n",
      "(185, '968930341439369216', 'g1politica', 'https://t.co/ZuBv7P0VTR', '28/02/2018', 'Moro determina leilão de imóveis de José Dirceu avaliados em mais de R$ 11 milhões ', 17, 33, '')\n",
      "(186, '968929839393554432', 'g1politica', 'https://t.co/ZuBv7PiwLp', '28/02/2018', 'Moro determina leilão de imóveis de José Dirceu avaliados em mais de R$ 11 milhões ', 3, 5, '')\n",
      "(187, '968929341571850241', 'g1politica', 'https://t.co/2pHwUDekWC', '28/02/2018', \"'Combata a corrupção', diz Jungmann sobre ordem que deu a novo diretor-geral da PF \", 1, 6, '')\n",
      "(188, '968928832068706305', 'g1politica', 'https://t.co/2pHwUDekWC', '28/02/2018', \"Jungmann diz que ordem que deu a novo diretor-geral da PF foi: 'combata a corrupção' \", 4, 13, '')\n",
      "(189, '968925309516107777', 'g1politica', 'https://t.co/VKvGRMJXCg', '28/02/2018', 'Jungmann diz que está autorizado a contratar 500 policiais federais e 500 policiais rodoviários federais ', 1, 8, '')\n",
      "(190, '968924802433110016', 'g1politica', 'https://t.co/VKvGRMJXCg', '28/02/2018', 'Jungmann diz que está autorizado a contratar 500 policiais federais 500 rodoviários federais ', 32, 57, '')\n",
      "(191, '968914738766901248', 'g1politica', 'https://t.co/7WI1caqyUd', '28/02/2018', 'Governo anuncia liberação de R$ 1 bilhão para formação de professores ', 5, 6, '')\n",
      "(192, '968911723284574208', 'g1politica', 'https://t.co/LSwioCB5Jm', '28/02/2018', 'Segurança Pública: ministro Raul Jungmann dá entrevista ', 2, 7, '')\n",
      "(193, '968911209931198464', 'g1politica', 'https://t.co/c0EZfg0Rej', '28/02/2018', 'Temer anuncia investimentos para formação de professores ', 0, 3, '')\n"
     ]
    }
   ],
   "source": [
    "for status in cursor.fetchmany(size=100):\n",
    "    print(status)"
   ]
  },
  {
   "cell_type": "code",
   "execution_count": 17,
   "metadata": {
    "collapsed": true
   },
   "outputs": [],
   "source": [
    "statuses = [status for status in cursor.fetchmany(100)]"
   ]
  },
  {
   "cell_type": "code",
   "execution_count": 22,
   "metadata": {
    "collapsed": false
   },
   "outputs": [
    {
     "data": {
      "text/plain": [
       "'/home/caiomagno/Documentos/Projetos/Crawler/Twitterbot_files'"
      ]
     },
     "execution_count": 22,
     "metadata": {},
     "output_type": "execute_result"
    }
   ],
   "source": [
    "pwd"
   ]
  }
 ],
 "metadata": {
  "kernelspec": {
   "display_name": "Python [conda root]",
   "language": "python",
   "name": "conda-root-py"
  },
  "language_info": {
   "codemirror_mode": {
    "name": "ipython",
    "version": 3
   },
   "file_extension": ".py",
   "mimetype": "text/x-python",
   "name": "python",
   "nbconvert_exporter": "python",
   "pygments_lexer": "ipython3",
   "version": "3.5.2"
  }
 },
 "nbformat": 4,
 "nbformat_minor": 2
}
