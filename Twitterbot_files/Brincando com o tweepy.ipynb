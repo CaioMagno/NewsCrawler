{
 "cells": [
  {
   "cell_type": "markdown",
   "metadata": {},
   "source": [
    "# TUTORIAL TWITTER"
   ]
  },
  {
   "cell_type": "code",
   "execution_count": 2,
   "metadata": {
    "collapsed": false
   },
   "outputs": [],
   "source": [
    "#Tem as variaveis que armazenam as credenciais\n",
    "from credentials import *\n",
    "# from newswire_ids import *\n",
    "import tweepy\n",
    "\n",
    "from tweepy import Stream\n",
    "from tweepy import OAuthHandler\n",
    "\n",
    "auth = tweepy.OAuthHandler(consumer_key, consumer_secret)\n",
    "auth.set_access_token(access_token, access_token_secret)\n",
    "\n",
    "api = tweepy.API(auth)\n",
    "\n",
    "from Twitterbot import *\n"
   ]
  },
  {
   "cell_type": "code",
   "execution_count": 6,
   "metadata": {
    "collapsed": false
   },
   "outputs": [
    {
     "ename": "AttributeError",
     "evalue": "'Status' object has no attribute 'extended_tweet'",
     "output_type": "error",
     "traceback": [
      "\u001b[0;31m---------------------------------------------------------------------------\u001b[0m",
      "\u001b[0;31mAttributeError\u001b[0m                            Traceback (most recent call last)",
      "\u001b[0;32m<ipython-input-6-d6acc178f40b>\u001b[0m in \u001b[0;36m<module>\u001b[0;34m()\u001b[0m\n\u001b[1;32m      5\u001b[0m \u001b[0mtweet\u001b[0m\u001b[0;34m.\u001b[0m\u001b[0mcontent\u001b[0m \u001b[0;34m=\u001b[0m \u001b[0mtweet\u001b[0m\u001b[0;34m.\u001b[0m\u001b[0mcontent\u001b[0m\u001b[0;34m.\u001b[0m\u001b[0mreplace\u001b[0m\u001b[0;34m(\u001b[0m\u001b[0;34m\"'\"\u001b[0m\u001b[0;34m,\u001b[0m \u001b[0;34m\"\"\u001b[0m\u001b[0;34m)\u001b[0m\u001b[0;34m\u001b[0m\u001b[0m\n\u001b[1;32m      6\u001b[0m \u001b[0mtweet\u001b[0m\u001b[0;34m.\u001b[0m\u001b[0mgetSQLParams\u001b[0m\u001b[0;34m(\u001b[0m\u001b[0;34m)\u001b[0m\u001b[0;34m\u001b[0m\u001b[0m\n\u001b[0;32m----> 7\u001b[0;31m \u001b[0mstatus\u001b[0m\u001b[0;34m.\u001b[0m\u001b[0mextended_tweet\u001b[0m\u001b[0;34m[\u001b[0m\u001b[0;34m\"full_text\"\u001b[0m\u001b[0;34m]\u001b[0m\u001b[0;34m\u001b[0m\u001b[0m\n\u001b[0m",
      "\u001b[0;31mAttributeError\u001b[0m: 'Status' object has no attribute 'extended_tweet'"
     ]
    }
   ],
   "source": [
    "status = api.get_status(968618520077656070)\n",
    "\n",
    "# tweet = NewswireTweet(status)\n",
    "tweet = ReplyTweet(status)\n",
    "tweet.content = tweet.content.replace(\"'\", \"\")\n",
    "tweet.getSQLParams()\n",
    "status.truncated"
   ]
  },
  {
   "cell_type": "code",
   "execution_count": 16,
   "metadata": {
    "collapsed": false
   },
   "outputs": [],
   "source": [
    "from DatabaseUtils import DatabaseConnector\n",
    "db_conn = DatabaseConnector(\"localhost\", \"root\", \"12345\", \"twitter_database\")\n",
    "\n",
    "db = db_conn.connect()\n",
    "cursor = db.cursor()\n",
    "cursor.execute(\"SELECT newswire_tweets_id FROM newswire_tweets\")\n",
    "r = cursor.fetchall()\n",
    "db.close()\n",
    "\n",
    "r = [i[0] for i in r]"
   ]
  },
  {
   "cell_type": "code",
   "execution_count": 17,
   "metadata": {
    "collapsed": false
   },
   "outputs": [
    {
     "data": {
      "text/plain": [
       "True"
      ]
     },
     "execution_count": 17,
     "metadata": {},
     "output_type": "execute_result"
    }
   ],
   "source": [
    "'968595629839659011' in r"
   ]
  },
  {
   "cell_type": "code",
   "execution_count": 5,
   "metadata": {
    "collapsed": false
   },
   "outputs": [
    {
     "name": "stdout",
     "output_type": "stream",
     "text": [
      "EXCEPTION IN:  INSERT INTO reply_tweets (tweets_id, date, place, content, original_tweet_id, hashtags)                                             VALUES (%s, %s, %s, %s, %s, %s) \n",
      "\n",
      "TWEET ID:  968619760278818817 \n",
      "\n",
      "Traceback (most recent call last):\n",
      "  File \"/home/caiomagno/Documentos/Projetos/Crawler/Twitterbot_files/DatabaseUtils.py\", line 21, in insertSQLCommand\n",
      "    row = cursor.execute(sqlStament, tweet.getSQLParams())\n",
      "  File \"/home/caiomagno/anaconda3/lib/python3.5/site-packages/pymysql/cursors.py\", line 166, in execute\n",
      "    result = self._query(query)\n",
      "  File \"/home/caiomagno/anaconda3/lib/python3.5/site-packages/pymysql/cursors.py\", line 322, in _query\n",
      "    conn.query(q)\n",
      "  File \"/home/caiomagno/anaconda3/lib/python3.5/site-packages/pymysql/connections.py\", line 833, in query\n",
      "    sql = sql.encode(self.encoding, 'surrogateescape')\n",
      "UnicodeEncodeError: 'latin-1' codec can't encode character '\\u2026' in position 295: ordinal not in range(256)\n",
      "\n"
     ]
    },
    {
     "data": {
      "text/plain": [
       "0"
      ]
     },
     "execution_count": 5,
     "metadata": {},
     "output_type": "execute_result"
    }
   ],
   "source": [
    "# db_conn.insertNewswireTweet(tweet)\n",
    "db_conn.insertReplyTweet(tweet)"
   ]
  },
  {
   "cell_type": "code",
   "execution_count": 43,
   "metadata": {
    "collapsed": false
   },
   "outputs": [],
   "source": [
    "g1_politica = 31504246\n",
    "politica_estadao = 76369002\n",
    "folha_poder = 90963197\n",
    "\n",
    "newswire_ids = [g1_politica, politica_estadao, folha_poder]"
   ]
  },
  {
   "cell_type": "code",
   "execution_count": 46,
   "metadata": {
    "collapsed": false
   },
   "outputs": [
    {
     "data": {
      "text/plain": [
       "True"
      ]
     },
     "execution_count": 46,
     "metadata": {},
     "output_type": "execute_result"
    }
   ],
   "source": [
    "# status.author.id in newswire_ids\n",
    "status.author.id in newswire_ids"
   ]
  }
 ],
 "metadata": {
  "anaconda-cloud": {},
  "kernelspec": {
   "display_name": "Python [conda root]",
   "language": "python",
   "name": "conda-root-py"
  },
  "language_info": {
   "codemirror_mode": {
    "name": "ipython",
    "version": 3
   },
   "file_extension": ".py",
   "mimetype": "text/x-python",
   "name": "python",
   "nbconvert_exporter": "python",
   "pygments_lexer": "ipython3",
   "version": "3.5.2"
  }
 },
 "nbformat": 4,
 "nbformat_minor": 0
}
