{
 "cells": [
  {
   "cell_type": "markdown",
   "metadata": {},
   "source": [
    "# TUTORIAL TWITTER"
   ]
  },
  {
   "cell_type": "code",
   "execution_count": 8,
   "metadata": {
    "collapsed": false
   },
   "outputs": [],
   "source": [
    "#Tem as variaveis que armazenam as credenciais\n",
    "from credentials import *\n",
    "# from newswire_ids import *\n",
    "import tweepy\n",
    "\n",
    "from tweepy import Stream\n",
    "from tweepy import OAuthHandler\n",
    "\n",
    "auth = tweepy.OAuthHandler(consumer_key, consumer_secret)\n",
    "auth.set_access_token(access_token, access_token_secret)\n",
    "\n",
    "api = tweepy.API(auth)\n",
    "\n",
    "from Twitterbot import *\n",
    "db_conn = DatabaseConnector(\"localhost\", \"root\", \"12345\", \"twitter_database\")"
   ]
  },
  {
   "cell_type": "code",
   "execution_count": 24,
   "metadata": {
    "collapsed": false
   },
   "outputs": [
    {
     "data": {
      "text/plain": [
       "('968883738242420737',\n",
       " 'OGloboPolitica',\n",
       " 'https://t.co/YxZsM2qyx4',\n",
       " '28/02/2018',\n",
       " b'Fachin nega pedido da PGR de pris\\xc3\\xa3o domiciliar para m\\xc3\\xa3e de Geddel e recolhimento noturno do irm\\xc3\\xa3o, deputado L\\xc3\\xbacio V\\xe2\\x80\\xa6 ',\n",
       " 28,\n",
       " 29,\n",
       " '')"
      ]
     },
     "execution_count": 24,
     "metadata": {},
     "output_type": "execute_result"
    }
   ],
   "source": [
    "status = api.get_status(968883738242420737)\n",
    "\n",
    "tweet = NewswireTweet(status)\n",
    "# tweet = ReplyTweet(status)\n",
    "tweet.content = tweet.content.encode('utf-8')\n",
    "tweet.getSQLParams()\n"
   ]
  },
  {
   "cell_type": "code",
   "execution_count": 25,
   "metadata": {
    "collapsed": false
   },
   "outputs": [
    {
     "data": {
      "text/plain": [
       "True"
      ]
     },
     "execution_count": 25,
     "metadata": {},
     "output_type": "execute_result"
    }
   ],
   "source": [
    "status.entities\n",
    "status.truncated"
   ]
  },
  {
   "cell_type": "code",
   "execution_count": 27,
   "metadata": {
    "collapsed": false
   },
   "outputs": [],
   "source": [
    "status = api.get_status(968883738242420737, tweet_mode = \"extended\")"
   ]
  },
  {
   "cell_type": "code",
   "execution_count": 28,
   "metadata": {
    "collapsed": false
   },
   "outputs": [
    {
     "data": {
      "text/plain": [
       "'Fachin nega pedido da PGR de prisão domiciliar para mãe de Geddel e recolhimento noturno do irmão, deputado Lúcio Vieira Lima (PMDB-BA) https://t.co/XnbzQwg7n0 https://t.co/E7qSCyHW4X'"
      ]
     },
     "execution_count": 28,
     "metadata": {},
     "output_type": "execute_result"
    }
   ],
   "source": [
    "status.full_text"
   ]
  },
  {
   "cell_type": "code",
   "execution_count": 10,
   "metadata": {
    "collapsed": false
   },
   "outputs": [
    {
     "data": {
      "text/plain": [
       "1"
      ]
     },
     "execution_count": 10,
     "metadata": {},
     "output_type": "execute_result"
    }
   ],
   "source": [
    "db_conn.insertNewswireTweet(tweet)\n",
    "# db_conn.insertReplyTweet(tweet)"
   ]
  },
  {
   "cell_type": "code",
   "execution_count": 43,
   "metadata": {
    "collapsed": false
   },
   "outputs": [],
   "source": [
    "g1_politica = 31504246\n",
    "politica_estadao = 76369002\n",
    "folha_poder = 90963197\n",
    "\n",
    "newswire_ids = [g1_politica, politica_estadao, folha_poder]"
   ]
  }
 ],
 "metadata": {
  "anaconda-cloud": {},
  "kernelspec": {
   "display_name": "Python [conda root]",
   "language": "python",
   "name": "conda-root-py"
  },
  "language_info": {
   "codemirror_mode": {
    "name": "ipython",
    "version": 3
   },
   "file_extension": ".py",
   "mimetype": "text/x-python",
   "name": "python",
   "nbconvert_exporter": "python",
   "pygments_lexer": "ipython3",
   "version": "3.5.2"
  }
 },
 "nbformat": 4,
 "nbformat_minor": 0
}
