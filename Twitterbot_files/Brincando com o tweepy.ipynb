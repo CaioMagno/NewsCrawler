{
 "cells": [
  {
   "cell_type": "markdown",
   "metadata": {},
   "source": [
    "# TUTORIAL TWITTER"
   ]
  },
  {
   "cell_type": "code",
   "execution_count": 1,
   "metadata": {
    "collapsed": false
   },
   "outputs": [],
   "source": [
    "#Tem as variaveis que armazenam as credenciais\n",
    "from credentials import *\n",
    "# from newswire_ids import *\n",
    "import tweepy\n",
    "\n",
    "from tweepy import Stream\n",
    "from tweepy import OAuthHandler\n",
    "\n",
    "auth = tweepy.OAuthHandler(consumer_key, consumer_secret)\n",
    "auth.set_access_token(access_token, access_token_secret)\n",
    "\n",
    "api = tweepy.API(auth)\n",
    "\n",
    "# from Twitterbot import *\n",
    "# db_conn = DatabaseConnector(\"localhost\", \"root\", \"12345\", \"twitter_database\")"
   ]
  },
  {
   "cell_type": "code",
   "execution_count": 3,
   "metadata": {
    "collapsed": false,
    "scrolled": false
   },
   "outputs": [],
   "source": [
    "status = api.get_status(968883738242420737)\n",
    "\n",
    "# tweet = NewswireTweet(status)\n",
    "# tweet = ReplyTweet(status)\n",
    "# tweet.content = tweet.content.encode('utf-8')\n",
    "# tweet.getSQLParams()\n"
   ]
  },
  {
   "cell_type": "code",
   "execution_count": 5,
   "metadata": {
    "collapsed": false
   },
   "outputs": [
    {
     "name": "stdout",
     "output_type": "stream",
     "text": [
      "23/05/2018 :  PGR envia material da Operação Skala ao STF para PF aprofundar investigações https://t.co/qp3qAe3aDo\n",
      "23/05/2018 :  Ministro do STF autoriza visita de deputados ao ex-presidente Lula https://t.co/wU2tCavuOP\n",
      "23/05/2018 :  Maia diz que projeto da reoneração vai prever corte do PIS/Cofins sobre combustíveis https://t.co/biFG90NDkL\n",
      "23/05/2018 :  Em 2017, 47% das indústrias realizaram investimentos como planejado, aponta CNI https://t.co/L6x62Ymq55\n",
      "23/05/2018 :  Justiça concede liminar para garantir fornecimento de combustível a aeroporto em PE https://t.co/gLQ253aWzI\n",
      "23/05/2018 :  Justiça manda prender Azeredo; Governo reduz imposto do diesel, mas protesto continua. Jornais de quarta (23) https://t.co/zZWwHgCt3c\n",
      "23/05/2018 :  TSE: fundo eleitoral deve destinar 30% dos recursos para campanhas de mulheres https://t.co/2zhxi9eqwi\n",
      "23/05/2018 :  Senador propõe limitar ICMS sobre gasolina e diesel https://t.co/OmEP8qRnIr\n",
      "23/05/2018 :  Câmara aprova mudanças nos empréstimos concedidos com recursos dos fundos constitucionais https://t.co/SjKfZfQqUU\n",
      "22/05/2018 :  Senado aprova inclusão de 12 municípios na Região Integrada de Desenvolvimento do Distrito Federal e Entorno https://t.co/QodMAoKYSq\n",
      "22/05/2018 :  Segunda Turma do STF suspende julgamento do deputado Nelson Meurer https://t.co/g8FohgNRRK\n",
      "22/05/2018 :  Desoneração da folha acabará para todos os setores em 2020, diz ministro https://t.co/DLEsR81bSS\n",
      "22/05/2018 :  Desoneração da folha acabará para todos os setores em 2020, diz Fazenda https://t.co/DLEsR81bSS\n",
      "22/05/2018 :  Depois do voto de Celso de Mello, Edson Fachin suspendeu a sessão da Segunda Turma do STF desta terça-feira (22). Os trabalhos serão retomados na próxima terça (29), com o voto dos demais ministros da Turma (Toffoli, Lewandowski e Gilmar) sobre o caso Nelson Meurer #politicaG1\n",
      "22/05/2018 :  Celso de Mello decidiu absolver os filhos do deputado, Nelson Meurer Júnior e Cristiano Augusto Meurer, em relação às acusações de lavagem de dinheiro #politicaG1\n",
      "22/05/2018 :  Assim como Fachin, Celso de Mello entendeu que Nelson Meurer Júnior, filho do deputado, cometeu o crime de corrupção passiva em 5 oportunidades e Cristiano Augusto Meurer, outro filho do parlamentar, cometeu, por uma vez, o mesmo crime #politicaG1\n",
      "22/05/2018 :  BNDES aprova financiamento de R$ 5 bilhões para a segurança pública no Brasil este ano https://t.co/sbzkQLcA4T\n",
      "22/05/2018 :  André de Paula é eleito quarto-secretário da Mesa Diretora da Câmara https://t.co/1iTNCtBL9r\n",
      "22/05/2018 :  Deputado André de Paula é eleito quarto-secretário da Mesa Diretora da Câmara https://t.co/1iTNCtBL9r\n",
      "22/05/2018 :  Para Celso de Mello, Nelson Meurer cometeu 31 vezes o crime de corrupção passiva e 8 vezes o crime de lavagem de dinheiro #politicaG1\n",
      "22/05/2018 :  Celso de Mello decide acompanhar integralmente o voto de Fachin e vota por condenar o deputado Nelson Meurer pelos crimes de corrupção passiva e lavagem de dinheiro #politicaG1\n",
      "22/05/2018 :  \"O modo de recebimento da vantagem indevida pode, além de configurar corrupção passiva, configurar a lavagem de capitais, desde que o ato evidencie o propósito de ocultar ou dissimular a origem e que seja suficiente para o agente corrupto usufruir\", disse Celso #politicaG1\n",
      "22/05/2018 :  Para Celso de Mello, Nelson Meurer também tentou dar aparência legal ao recebimento de propina quando declarou, em seu imposto de renda, quantias incompatíveis com seus rendimentos. Para o ministro, há configuração de lavagem de dinheiro nessa prática #politicaG1\n",
      "22/05/2018 :  Maia diz que Câmara não votará MP que trata da privatização de distribuidoras da Eletrobras https://t.co/R4dPDUrzmu\n",
      "22/05/2018 :  O magistrado afirmou que o objetivo desses depósitos fracionados era subtrair a necessidade de fiscalização e comunicação de tais operações para as autoridades #politicaG1\n",
      "22/05/2018 :  Para Celso de Mello, há comprovação de que Nelson Meurer praticou lavagem de dinheiro ao fazer \"inúmeros\" depósitos em sua conta corrente com a finalidade de ocultar a origem ilícita de valores #políticaG1\n",
      "22/05/2018 :  PGR denuncia Fernando Pimentel https://t.co/M7VqNKQaf6\n",
      "22/05/2018 :  Para o magistrado, o deputado Nelson Meurer cometeu o crime de corrupção passiva por 31 vezes. Ele seguiu o entendimento do relator da Lava Jato, Edson Fachin #politicaG1\n",
      "22/05/2018 :  Celso de Mello vota por condenar Nelson Meurer, Nelson Meurer Júnior e Cristiano Augusto Meurer pelo crime de corrupção passiva. Agora, o ministro analisa as acusações de prática de lavagem de dinheiro #politicaG1\n",
      "22/05/2018 :  O magistrado disse ainda que o deputado agiu para dissimular, por meio de doação oficial para a campanha à Câmara dos Deputados, a natureza ilícita de recursos #politicaG1\n",
      "22/05/2018 :  Pré-candidato do MDB, Meirelles considera 'difícil' candidatura única de centro no primeiro turno da eleição https://t.co/HgK55quYXP\n",
      "22/05/2018 :  Na avaliação de Celso de Mello, os filhos de Nelson Meurer, que também são réus nesta ação penal, auxiliaram o deputado no recebimento de propinas #politicaG1\n",
      "22/05/2018 :  O ministro-revisor do caso afirmou que isso aconteceu em, pelo menos, 30 diferentes oportunidades #politicaG1\n",
      "22/05/2018 :  Para Celso de Mello, Nelson Meurer recebeu \"em pagamento, pelo comércio indigno e criminoso de sua função pública, verbas ilícitas oriundas do vergonhoso esquema de corrupção\" na Diretoria de Abastecimento da Petrobras #politicaG1\n",
      "22/05/2018 :  Para Celso de Mello, há provas de que Nelson Meurer recebeu, periodicamente, valores indevidos entregues por delatores do esquema de corrupção, entre os quais, o doleiro Alberto Youssef #politicaG1\n",
      "22/05/2018 :  Celso de Mello afirmou que Meurer fazia isso para “recebimento, durante vários anos, das vantagens ilícitas do denominado ‘caixa de propinas’ gerido por Youssef e abastecido pelo cartel de empreiteiras vinculado à Diretoria de Abastecimento da Petrobras” #politicaG1\n",
      "22/05/2018 :  Para o magistrado, esse apoio de Meurer \"permitiu\" a continuidade de sistema \"criminoso\" de poder para dar prosseguimento a método de corrupção estabelecido na Petrobras #politicaG1\n",
      "22/05/2018 :  \"Não permanece dúvida de que Nelson Meurer emprestou capital político para [...] dar sustentação política à manutenção de Paulo Roberto Costa à frente da Diretoria de Abastecimento da Petrobras\", afirmou Celso de Mello #politicaG1\n",
      "22/05/2018 :  Celso de Mello dedicou parte de seu voto a uma análise do presidencialismo de coalizão. No caso do Brasil, o presidente da República, a fim de conquistar maioria no Congresso, preenche cargos públicos seguindo indicações de partidos #politicaG1\n",
      "22/05/2018 :  Após pedido de vista, STJ adia decisão sobre equiparar a guarda de animais à de filhos https://t.co/7oHP3qcuJG\n"
     ]
    }
   ],
   "source": [
    "import NewswireIds\n",
    "\n",
    "def check_date(tweet_date, reference_date):\n",
    "    if tweet_date >= reference_date:\n",
    "        return True\n",
    "    else:\n",
    "        return False\n",
    "    \n",
    "def get_tweet_date(tweet):\n",
    "    return tweet.created_at.strftime(\"%d/%m/%Y\")\n",
    "\n",
    "reference_date = \"07/05/2018\"\n",
    "\n",
    "for page in tweepy.Cursor(api.user_timeline, id= NewswireIds.g1politica, tweet_mode = \"extended\").pages(2):\n",
    "    for status in page:\n",
    "#         print(status.created_at.strftime(\"%d/%m/%Y\") < \"04/05/2018\")\n",
    "        tweet_date = get_tweet_date(status)\n",
    "        if check_date(tweet_date, reference_date):\n",
    "            print(tweet_date, \": \",status.full_text)"
   ]
  },
  {
   "cell_type": "code",
   "execution_count": 4,
   "metadata": {
    "collapsed": false
   },
   "outputs": [
    {
     "data": {
      "text/plain": [
       "True"
      ]
     },
     "execution_count": 4,
     "metadata": {},
     "output_type": "execute_result"
    }
   ],
   "source": [
    "status.entities\n",
    "status.truncated"
   ]
  },
  {
   "cell_type": "code",
   "execution_count": 27,
   "metadata": {
    "collapsed": false
   },
   "outputs": [],
   "source": [
    "status = api.get_status(968883738242420737, tweet_mode = \"extended\")"
   ]
  },
  {
   "cell_type": "code",
   "execution_count": 28,
   "metadata": {
    "collapsed": false
   },
   "outputs": [
    {
     "data": {
      "text/plain": [
       "'Fachin nega pedido da PGR de prisão domiciliar para mãe de Geddel e recolhimento noturno do irmão, deputado Lúcio Vieira Lima (PMDB-BA) https://t.co/XnbzQwg7n0 https://t.co/E7qSCyHW4X'"
      ]
     },
     "execution_count": 28,
     "metadata": {},
     "output_type": "execute_result"
    }
   ],
   "source": [
    "status.full_text"
   ]
  },
  {
   "cell_type": "code",
   "execution_count": 10,
   "metadata": {
    "collapsed": false
   },
   "outputs": [
    {
     "data": {
      "text/plain": [
       "1"
      ]
     },
     "execution_count": 10,
     "metadata": {},
     "output_type": "execute_result"
    }
   ],
   "source": [
    "db_conn.insertNewswireTweet(tweet)\n",
    "# db_conn.insertReplyTweet(tweet)"
   ]
  },
  {
   "cell_type": "code",
   "execution_count": 43,
   "metadata": {
    "collapsed": false
   },
   "outputs": [],
   "source": [
    "g1_politica = 31504246\n",
    "politica_estadao = 76369002\n",
    "folha_poder = 90963197\n",
    "\n",
    "newswire_ids = [g1_politica, politica_estadao, folha_poder]"
   ]
  }
 ],
 "metadata": {
  "anaconda-cloud": {},
  "kernelspec": {
   "display_name": "Python [conda root]",
   "language": "python",
   "name": "conda-root-py"
  },
  "language_info": {
   "codemirror_mode": {
    "name": "ipython",
    "version": 3
   },
   "file_extension": ".py",
   "mimetype": "text/x-python",
   "name": "python",
   "nbconvert_exporter": "python",
   "pygments_lexer": "ipython3",
   "version": "3.5.2"
  }
 },
 "nbformat": 4,
 "nbformat_minor": 0
}
