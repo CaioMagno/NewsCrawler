{
 "cells": [
  {
   "cell_type": "code",
   "execution_count": 1,
   "metadata": {
    "collapsed": true
   },
   "outputs": [],
   "source": [
    "from cogroo_interface import Cogroo"
   ]
  },
  {
   "cell_type": "code",
   "execution_count": 10,
   "metadata": {
    "collapsed": true
   },
   "outputs": [],
   "source": [
    "cogroo = Cogroo.Instance()"
   ]
  },
  {
   "cell_type": "code",
   "execution_count": 49,
   "metadata": {
    "collapsed": false
   },
   "outputs": [
    {
     "data": {
      "text/plain": [
       "'NP[As duas propostas] PP[de] NP[Toffoli] VP[seguem] NP[o modelo] VP[aprovado] PP[em a] NP[em a semana passada] ADVP[quando] NP[o Supremo] VP[restringiu] NP[o foro] PP[de] NP[deputados federais] NP[senadores] PP[a os] NP[a os crimes] VP[cometidos] PP[durante] NP[o exercício] PP[de o] NP[de o cargo] PP[a o] NP[a o mandato] PP[em essas] NP[em essas situações] NP[eles] VP[continuam a ser processados] ADVP[exclusivamente] PP[em o] NP[em o Supremo] PP[em as] NP[em as outras situações] VP[serão processados] PP[em as] NP[em as primeiras instâncias judiciais]'"
      ]
     },
     "execution_count": 49,
     "metadata": {},
     "output_type": "execute_result"
    }
   ],
   "source": [
    "sentence = \"As duas propostas de Toffoli seguem o modelo aprovado na semana passada, quando o Supremo restringiu o foro de deputados federais e senadores aos crimes cometidos durante o exercício do cargo e ligados ao mandato. Nessas situações, eles continuam a ser processados exclusivamente no Supremo. Nas outras situações, serão processados nas primeiras instâncias judiciais.\"\n",
    "\n",
    "# Lemmatizando\n",
    "cogroo.lemmatize(sentence)\n",
    "\n",
    "# Analise morfologica\n",
    "doc = cogroo.analyze(sentence)\n",
    "\n",
    "# Chunking\n",
    "cogroo.chunk_tag(sentence)\n",
    "\n",
    "# corretor\n",
    "# cogroo.grammar_check(sentence)\n"
   ]
  }
 ],
 "metadata": {
  "anaconda-cloud": {},
  "kernelspec": {
   "display_name": "Python [conda root]",
   "language": "python",
   "name": "conda-root-py"
  },
  "language_info": {
   "codemirror_mode": {
    "name": "ipython",
    "version": 3
   },
   "file_extension": ".py",
   "mimetype": "text/x-python",
   "name": "python",
   "nbconvert_exporter": "python",
   "pygments_lexer": "ipython3",
   "version": "3.5.2"
  }
 },
 "nbformat": 4,
 "nbformat_minor": 2
}
