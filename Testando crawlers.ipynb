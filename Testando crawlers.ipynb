{
 "cells": [
  {
   "cell_type": "code",
   "execution_count": 1,
   "metadata": {
    "collapsed": false
   },
   "outputs": [],
   "source": [
    "import requests\n",
    "from bs4 import BeautifulSoup\n",
    "from NewsCrawler import NewsScrapperG1, NewsScrapperFolha"
   ]
  },
  {
   "cell_type": "code",
   "execution_count": 34,
   "metadata": {
    "collapsed": false
   },
   "outputs": [],
   "source": [
    "# r = requests.get(\"https://t.co/Rga5Lfeqku\")\n",
    "r = requests.get(\"https://t.co/Az0Og9IRKO\")\n",
    "soup = BeautifulSoup(r.text, \"lxml\")\n",
    "\n",
    "scripts = soup.find_all(name=\"script\")\n",
    "\n",
    "# h3=soup.find_all(name=\"h3\", class_=\"search-results-title\")\n",
    "# h3\n",
    "# url = h3[0].a[\"href\"]\n",
    "\n"
   ]
  },
  {
   "cell_type": "code",
   "execution_count": 35,
   "metadata": {
    "collapsed": false
   },
   "outputs": [
    {
     "data": {
      "text/plain": [
       "[]"
      ]
     },
     "execution_count": 35,
     "metadata": {},
     "output_type": "execute_result"
    }
   ],
   "source": [
    "import re\n",
    "s = scripts[2]\n",
    "matches = re.findall('CANONICAL_URL: \\\"(.+)\\\"',s.text)\n",
    "matches"
   ]
  },
  {
   "cell_type": "code",
   "execution_count": 12,
   "metadata": {
    "collapsed": false
   },
   "outputs": [
    {
     "data": {
      "text/plain": [
       "['http://www1.folha.uol.com.br/opiniao/2017/11/1939347-um-plano-real-de-combate-a-corrupcao.shtml',\n",
       " 'http://www1.folha.uol.com.br/colunas/matiasspektor/2017/11/1939393-portugal-tem-conexao-com-a-bandidagem-brasileira.shtml',\n",
       " 'http://www1.folha.uol.com.br/poder/2017/11/1939418-a-pf-renan-nega-amizade-com-lobista-que-disse-frequentar-casa-do-senador.shtml',\n",
       " 'http://www1.folha.uol.com.br/colunas/viniciustorres/2017/11/1939401-brasilia-nao-tem-medo-da-ruina.shtml',\n",
       " 'http://www1.folha.uol.com.br/colunas/sergio-rodrigues/2017/11/1939375-bestialogico-o-democratico-festival-de-asneiras-que-assola-a-internet.shtml',\n",
       " 'http://www1.folha.uol.com.br/colunas/robertodias/2017/11/1939356-suicidio-em-haia-lembra-que-reveses-da-globalizacao-nao-incluem-a-justica.shtml',\n",
       " 'http://www1.folha.uol.com.br/poder/2017/11/1939353-temer-foi-resistente-a-expor-caso-jbs-na-tv.shtml',\n",
       " 'http://www1.folha.uol.com.br/colunas/bernardomellofranco/2017/11/1939396-o-passeio-de-eike.shtml',\n",
       " 'http://www1.folha.uol.com.br/poder/2017/11/1939342-stf-aumenta-numero-de-juizes-para-acelerar-processos.shtml',\n",
       " 'http://www1.folha.uol.com.br/poder/2017/11/1939256-sou-um-soldado-do-brasil-diz-eike-em-depoimento-a-cpi-do-bndes.shtml',\n",
       " 'http://www1.folha.uol.com.br/poder/2017/11/1939220-so-pode-ser-brincadeira-diz-janot-sobre-critica-a-investigacao-de-mala.shtml',\n",
       " 'http://www1.folha.uol.com.br/poder/2017/11/1939219-mpf-denuncia-cunha-henrique-alves-e-funaro-por-lavagem-de-dinheiro.shtml',\n",
       " 'http://www1.folha.uol.com.br/poder/2017/11/1939158-o-psdb-nao-esta-mais-na-base-do-governo-afirma-padilha.shtml',\n",
       " 'http://www1.folha.uol.com.br/poder/2017/11/1939152-pf-suspeita-que-aecio-usou-celulares-de-laranjas-para-ligacoes-secretas.shtml',\n",
       " 'http://www1.folha.uol.com.br/colunas/marcostroyjo/2017/11/1939136-dez-razoes-que-fazem-do-brasil-um-serial-killer-de-oportunidades.shtml',\n",
       " 'http://www1.folha.uol.com.br/colunas/bernardomellofranco/2017/11/1939063-o-delator-e-os-delatados.shtml',\n",
       " 'http://www1.folha.uol.com.br/poder/2017/11/1939070-ministerio-publico-deve-ser-aberto-a-critica-diz-procurador-do-caso-jbs.shtml',\n",
       " 'http://www1.folha.uol.com.br/opiniao/2017/11/1939045-pax-tucana.shtml',\n",
       " 'http://www1.folha.uol.com.br/poder/2017/11/1939058-fortalecido-alckmin-encara-novos-obstaculos-para-2018.shtml',\n",
       " 'http://www1.folha.uol.com.br/colunas/igorgielow/2017/11/1938906-alckmin-e-virtual-candidato-em-2018-mas-estilo-ainda-preocupa-seus-aliados.shtml',\n",
       " 'http://www1.folha.uol.com.br/poder/2017/11/1939017-geddel-e-socio-de-seis-predios-de-luxo-na-ba-diz-empreiteiro.shtml',\n",
       " 'http://www1.folha.uol.com.br/poder/2017/11/1939002-stf-nega-liberdade-a-cunha-fachin-fala-em-especial-periculosidade.shtml',\n",
       " 'http://www1.folha.uol.com.br/poder/2017/11/1938871-acre-tera-chapa-majoritaria-com-tres-petistas.shtml',\n",
       " 'http://www1.folha.uol.com.br/mercado/2017/11/1938852-segovia-negocia-idade-minima-para-aposentadoria-de-policiais-federais.shtml',\n",
       " 'http://www1.folha.uol.com.br/poder/2017/11/1938856-mpf-apresenta-suposta-planilha-de-gastos-da-odebrecht-com-reformas-em-atibaia.shtml']"
      ]
     },
     "execution_count": 12,
     "metadata": {},
     "output_type": "execute_result"
    }
   ],
   "source": [
    "url = [htmlBlock.find(\"a\")[\"href\"] for htmlBlock in h3]\n",
    "url"
   ]
  },
  {
   "cell_type": "code",
   "execution_count": 43,
   "metadata": {
    "collapsed": false
   },
   "outputs": [
    {
     "data": {
      "text/plain": [
       "'28/11/2017  19h46'"
      ]
     },
     "execution_count": 43,
     "metadata": {},
     "output_type": "execute_result"
    }
   ],
   "source": [
    "r = requests.get(url)\n",
    "soup = BeautifulSoup(r.text, \"lxml\")\n",
    "article_body = soup.find(name=\"div\", class_ = \"content\", itemprop = \"articleBody\")\n",
    "paragraphs = article_body.find_all(name=\"p\")\n",
    "paragraphs\n",
    "headline = soup.find(name= \"h1\", itemprop = \"headline\").text\n",
    "headline\n",
    "date_published = soup.article.time.text.strip()"
   ]
  },
  {
   "cell_type": "markdown",
   "metadata": {},
   "source": [
    "## Teste do Crawler do G1"
   ]
  },
  {
   "cell_type": "code",
   "execution_count": 5,
   "metadata": {
    "collapsed": false
   },
   "outputs": [
    {
     "data": {
      "text/plain": [
       "'Nas contas da prefeitura, imigrantes representam mais de 10% da população da cidade. O reflexo se vê nas ruas: praças ocupadas, abrigos lotados e casas com até 31 moradores. Fluxo migratório começou em 2015, bateu recordes em 2017 e está aumentando em 2018. '"
      ]
     },
     "execution_count": 5,
     "metadata": {},
     "output_type": "execute_result"
    }
   ],
   "source": [
    "url = \"https://g1.globo.com/rr/roraima/noticia/fuga-da-fome-como-a-chegada-de-40-mil-venezuelanos-transformou-boa-vista.ghtml\"\n",
    "\n",
    "r = requests.get(url)\n",
    "r.encoding = \"utf-8\"\n",
    "\n",
    "soup = BeautifulSoup(r.text, \"lxml\")\n",
    "\n",
    "subtitle = soup.find(name= \"h2\", itemprop=\"alternativeHeadline\").text\n",
    "subtitle"
   ]
  },
  {
   "cell_type": "markdown",
   "metadata": {
    "collapsed": false
   },
   "source": [
    "## Teste do Crawler da Folha"
   ]
  },
  {
   "cell_type": "code",
   "execution_count": 11,
   "metadata": {
    "collapsed": false
   },
   "outputs": [],
   "source": [
    "scrapper = NewsScrapperFolha()\n",
    "results = scrapper.getNewsArticlesParsed([\"lava\", \"jato\"], 1)"
   ]
  },
  {
   "cell_type": "code",
   "execution_count": 13,
   "metadata": {
    "collapsed": false
   },
   "outputs": [
    {
     "data": {
      "text/plain": [
       "'Advogado diz que extratos usados por Janot contra Temer são falsos'"
      ]
     },
     "execution_count": 13,
     "metadata": {},
     "output_type": "execute_result"
    }
   ],
   "source": [
    "results[4].headline"
   ]
  },
  {
   "cell_type": "code",
   "execution_count": 9,
   "metadata": {
    "collapsed": false
   },
   "outputs": [
    {
     "data": {
      "text/plain": [
       "Article(url='https://t.co/Si3VUhjSw7', date='27.fev.2018 às 18h33', headline=\"\\n    'Outros também têm falado demais', diz Maia sobre queda de Segovia\\n  \", subtitle='Presidente da Câmara disse que foi pego de surpresa e que\\xa0espera independência de\\xa0novo diretor', content=['O presidente da Câmara, Rodrigo Maia (DEM-RJ), se disse surpreso com a troca do comando da Polícia Federal feita nesta terça-feira (27) pelo novo ministro da Segurança, Raul Jungmann.', 'O atual diretor-geral do órgão, Fernando Segovia, será trocado pelo delegado Rogério Galloro, que já havia sido cotado para substituir Leandro Daiello no comando da PF, no ano passado, conforme antecipou o Painel.', '“Me surpreendeu. Vamos esperar que o novo diretor tenha a mesma liberdade e independência para exercer o seu trabalho”, disse Maia ao ser informado da queda por jornalistas.', 'Questionado sobre se Segovia havia sido trocado pelas declarações que deu sobre o inquérito que investiga o presidente Michel Temer, Maia discordou.', '“Não acredito nisso. Se ele falou algo e falou demais, muitos outros têm falado demais também no Poder Judiciário, no Ministério Público. Não é uma prática dele falar demais. Falou uma vez. Talvez esteja pagando o preço por isso”, disse Maia.', 'Em manifestação ao STF (Supremo Tribunal Federal) na segunda-feira (26), a procuradora-geral da República, Raquel Dodge, censurou as declarações de Segovia sobre o inquérito que investiga o presidente Michel Temer.', 'Ela havia pedido ao relator, ministro Luís Roberto Barroso, que expedisse uma ordem para que Segovia se abstenha de “qualquer ato de ingerência sobre a persecução penal em curso”, inclusive de manifestações públicas a respeito das investigações, sob pena de afastamento do cargo.', 'A medida foi uma reação a uma entrevista de Segovia, no início de fevereiro, à agência Reuters em que disse que não há provas contra Temer no inquérito.', 'A declaração causou queixas de delegados da PF e de entidades sindicais, e o diretor-geral afirmou ter sido mal interpretado.', 'No dia 19, Segovia disse em audiência com Barroso que “se compromete a não fazer qualquer manifestação a respeito dos fatos objeto da apuração”.', '', '', 'A troca do diretor-geral da PF pegou os parlamentares de surpresa.', '“Acabou falando o que não devia. Tentou se explicar e não conseguiu”, disse o deputado Pauderney Avelino (DEM-AM).', 'Para Júlio Delgado (PSB-MG), líder da sigla, a mudança no ministério pode \"aumentar a blindagem\" do presidente nas investigações referentes ao Porto de Santos.', '\"É trocar seis por meia dúzia\", afirmou ele.', '\"A saída do Segovia e entrada de um nome que era seu subordinado, num novo ministério subordinado ao Jungmann, pode aumentar essa blindagem e evitar de uma vez por todas a investigação.\"', 'Já segundo o líder do PSOL, Ivan Valente (SP), a troca de comando na PF era \"previsível\". \"Ele [Segovia] não tinha mais nenhuma condição de permanecer no cargo\", afirmou.\\xa0\\r\\n\\xa0'])"
      ]
     },
     "execution_count": 9,
     "metadata": {},
     "output_type": "execute_result"
    }
   ],
   "source": [
    "from Twitterbot_files.NewsParser import *\n",
    "\n",
    "a = NewsParserFolha(\"https://t.co/Si3VUhjSw7\")\n",
    "a.parsePage()"
   ]
  },
  {
   "cell_type": "markdown",
   "metadata": {},
   "source": [
    "## Crawler para Estadão"
   ]
  },
  {
   "cell_type": "code",
   "execution_count": 2,
   "metadata": {
    "collapsed": false
   },
   "outputs": [
    {
     "ename": "AttributeError",
     "evalue": "'NoneType' object has no attribute 'text'",
     "output_type": "error",
     "traceback": [
      "\u001b[0;31m---------------------------------------------------------------------------\u001b[0m",
      "\u001b[0;31mAttributeError\u001b[0m                            Traceback (most recent call last)",
      "\u001b[0;32m<ipython-input-2-3a28d24e8a31>\u001b[0m in \u001b[0;36m<module>\u001b[0;34m()\u001b[0m\n\u001b[1;32m      9\u001b[0m \u001b[0msoup\u001b[0m \u001b[0;34m=\u001b[0m \u001b[0mBeautifulSoup\u001b[0m\u001b[0;34m(\u001b[0m\u001b[0mr\u001b[0m\u001b[0;34m.\u001b[0m\u001b[0mtext\u001b[0m\u001b[0;34m,\u001b[0m \u001b[0;34m\"lxml\"\u001b[0m\u001b[0;34m)\u001b[0m\u001b[0;34m\u001b[0m\u001b[0m\n\u001b[1;32m     10\u001b[0m \u001b[0;34m\u001b[0m\u001b[0m\n\u001b[0;32m---> 11\u001b[0;31m \u001b[0mheadline\u001b[0m \u001b[0;34m=\u001b[0m \u001b[0msoup\u001b[0m\u001b[0;34m.\u001b[0m\u001b[0mfind\u001b[0m\u001b[0;34m(\u001b[0m\u001b[0mname\u001b[0m\u001b[0;34m=\u001b[0m \u001b[0;34m\"h1\"\u001b[0m\u001b[0;34m,\u001b[0m \u001b[0mclass_\u001b[0m\u001b[0;34m=\u001b[0m\u001b[0;34m\"n--noticia__title\"\u001b[0m\u001b[0;34m)\u001b[0m\u001b[0;34m.\u001b[0m\u001b[0mtext\u001b[0m\u001b[0;34m\u001b[0m\u001b[0m\n\u001b[0m\u001b[1;32m     12\u001b[0m \u001b[0msubtitle\u001b[0m \u001b[0;34m=\u001b[0m \u001b[0msoup\u001b[0m\u001b[0;34m.\u001b[0m\u001b[0mfind\u001b[0m\u001b[0;34m(\u001b[0m\u001b[0mname\u001b[0m\u001b[0;34m=\u001b[0m \u001b[0;34m\"h2\"\u001b[0m\u001b[0;34m,\u001b[0m \u001b[0mclass_\u001b[0m\u001b[0;34m=\u001b[0m\u001b[0;34m\"n--noticia__subtitle\"\u001b[0m\u001b[0;34m)\u001b[0m\u001b[0;34m.\u001b[0m\u001b[0mtext\u001b[0m\u001b[0;34m\u001b[0m\u001b[0m\n\u001b[1;32m     13\u001b[0m \u001b[0mheadline\u001b[0m\u001b[0;34m,\u001b[0m \u001b[0msubtitle\u001b[0m\u001b[0;34m\u001b[0m\u001b[0m\n",
      "\u001b[0;31mAttributeError\u001b[0m: 'NoneType' object has no attribute 'text'"
     ]
    }
   ],
   "source": [
    "import unicodedata # para remover os caracteres especiais \\xa0\n",
    "url = \"http://politica.estadao.com.br/noticias/geral,ministros-candidatos-favorecem-bases-eleitorais,70002176804\"\n",
    "# url = \"https://t.co/Si3VUhjSw7\"\n",
    "\n",
    "\n",
    "r = requests.get(url)\n",
    "r.encoding = \"utf-8\"\n",
    "\n",
    "soup = BeautifulSoup(r.text, \"lxml\")\n",
    "\n",
    "headline = soup.find(name= \"h1\", class_=\"n--noticia__title\").text\n",
    "subtitle = soup.find(name= \"h2\", class_=\"n--noticia__subtitle\").text\n",
    "headline, subtitle\n",
    "\n",
    "date = list(soup.find(name = \"div\", class_ = \"n--noticia__state\").children)[3].text.strip()\n",
    "date\n",
    "\n",
    "# content = []\n",
    "# for paragraph in soup.find(name = \"div\", class_ = \"n--noticia__content\").p:\n",
    "#     content.append(paragraph)\n",
    "\n",
    "content_container = soup.find(name = \"div\", class_ = \"n--noticia__content\")\n",
    "content = [unicodedata.normalize(\"NFKD\", paragraph.text.strip()) for paragraph in content_container.find_all(name = \"p\")]\n",
    "content"
   ]
  }
 ],
 "metadata": {
  "anaconda-cloud": {},
  "kernelspec": {
   "display_name": "Python [conda root]",
   "language": "python",
   "name": "conda-root-py"
  },
  "language_info": {
   "codemirror_mode": {
    "name": "ipython",
    "version": 3
   },
   "file_extension": ".py",
   "mimetype": "text/x-python",
   "name": "python",
   "nbconvert_exporter": "python",
   "pygments_lexer": "ipython3",
   "version": "3.5.2"
  }
 },
 "nbformat": 4,
 "nbformat_minor": 2
}
