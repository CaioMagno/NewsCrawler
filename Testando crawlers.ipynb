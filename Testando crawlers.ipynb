{
 "cells": [
  {
   "cell_type": "code",
   "execution_count": 1,
   "metadata": {
    "collapsed": false
   },
   "outputs": [],
   "source": [
    "import requests\n",
    "from bs4 import BeautifulSoup\n",
    "from NewsCrawler import NewsScrapperG1, NewsScrapperFolha"
   ]
  },
  {
   "cell_type": "code",
   "execution_count": 9,
   "metadata": {
    "collapsed": false
   },
   "outputs": [],
   "source": [
    "r = requests.get(\"http://search.folha.uol.com.br/?q=lava+jato\")\n",
    "soup = BeautifulSoup(r.text, \"lxml\")\n",
    "\n",
    "\n",
    "h3=soup.find_all(name=\"h3\", class_=\"search-results-title\")\n",
    "\n",
    "# url = h3[0].a[\"href\"]\n",
    "\n"
   ]
  },
  {
   "cell_type": "code",
   "execution_count": 12,
   "metadata": {
    "collapsed": false
   },
   "outputs": [
    {
     "data": {
      "text/plain": [
       "['http://www1.folha.uol.com.br/opiniao/2017/11/1939347-um-plano-real-de-combate-a-corrupcao.shtml',\n",
       " 'http://www1.folha.uol.com.br/colunas/matiasspektor/2017/11/1939393-portugal-tem-conexao-com-a-bandidagem-brasileira.shtml',\n",
       " 'http://www1.folha.uol.com.br/poder/2017/11/1939418-a-pf-renan-nega-amizade-com-lobista-que-disse-frequentar-casa-do-senador.shtml',\n",
       " 'http://www1.folha.uol.com.br/colunas/viniciustorres/2017/11/1939401-brasilia-nao-tem-medo-da-ruina.shtml',\n",
       " 'http://www1.folha.uol.com.br/colunas/sergio-rodrigues/2017/11/1939375-bestialogico-o-democratico-festival-de-asneiras-que-assola-a-internet.shtml',\n",
       " 'http://www1.folha.uol.com.br/colunas/robertodias/2017/11/1939356-suicidio-em-haia-lembra-que-reveses-da-globalizacao-nao-incluem-a-justica.shtml',\n",
       " 'http://www1.folha.uol.com.br/poder/2017/11/1939353-temer-foi-resistente-a-expor-caso-jbs-na-tv.shtml',\n",
       " 'http://www1.folha.uol.com.br/colunas/bernardomellofranco/2017/11/1939396-o-passeio-de-eike.shtml',\n",
       " 'http://www1.folha.uol.com.br/poder/2017/11/1939342-stf-aumenta-numero-de-juizes-para-acelerar-processos.shtml',\n",
       " 'http://www1.folha.uol.com.br/poder/2017/11/1939256-sou-um-soldado-do-brasil-diz-eike-em-depoimento-a-cpi-do-bndes.shtml',\n",
       " 'http://www1.folha.uol.com.br/poder/2017/11/1939220-so-pode-ser-brincadeira-diz-janot-sobre-critica-a-investigacao-de-mala.shtml',\n",
       " 'http://www1.folha.uol.com.br/poder/2017/11/1939219-mpf-denuncia-cunha-henrique-alves-e-funaro-por-lavagem-de-dinheiro.shtml',\n",
       " 'http://www1.folha.uol.com.br/poder/2017/11/1939158-o-psdb-nao-esta-mais-na-base-do-governo-afirma-padilha.shtml',\n",
       " 'http://www1.folha.uol.com.br/poder/2017/11/1939152-pf-suspeita-que-aecio-usou-celulares-de-laranjas-para-ligacoes-secretas.shtml',\n",
       " 'http://www1.folha.uol.com.br/colunas/marcostroyjo/2017/11/1939136-dez-razoes-que-fazem-do-brasil-um-serial-killer-de-oportunidades.shtml',\n",
       " 'http://www1.folha.uol.com.br/colunas/bernardomellofranco/2017/11/1939063-o-delator-e-os-delatados.shtml',\n",
       " 'http://www1.folha.uol.com.br/poder/2017/11/1939070-ministerio-publico-deve-ser-aberto-a-critica-diz-procurador-do-caso-jbs.shtml',\n",
       " 'http://www1.folha.uol.com.br/opiniao/2017/11/1939045-pax-tucana.shtml',\n",
       " 'http://www1.folha.uol.com.br/poder/2017/11/1939058-fortalecido-alckmin-encara-novos-obstaculos-para-2018.shtml',\n",
       " 'http://www1.folha.uol.com.br/colunas/igorgielow/2017/11/1938906-alckmin-e-virtual-candidato-em-2018-mas-estilo-ainda-preocupa-seus-aliados.shtml',\n",
       " 'http://www1.folha.uol.com.br/poder/2017/11/1939017-geddel-e-socio-de-seis-predios-de-luxo-na-ba-diz-empreiteiro.shtml',\n",
       " 'http://www1.folha.uol.com.br/poder/2017/11/1939002-stf-nega-liberdade-a-cunha-fachin-fala-em-especial-periculosidade.shtml',\n",
       " 'http://www1.folha.uol.com.br/poder/2017/11/1938871-acre-tera-chapa-majoritaria-com-tres-petistas.shtml',\n",
       " 'http://www1.folha.uol.com.br/mercado/2017/11/1938852-segovia-negocia-idade-minima-para-aposentadoria-de-policiais-federais.shtml',\n",
       " 'http://www1.folha.uol.com.br/poder/2017/11/1938856-mpf-apresenta-suposta-planilha-de-gastos-da-odebrecht-com-reformas-em-atibaia.shtml']"
      ]
     },
     "execution_count": 12,
     "metadata": {},
     "output_type": "execute_result"
    }
   ],
   "source": [
    "url = [htmlBlock.find(\"a\")[\"href\"] for htmlBlock in h3]\n",
    "url"
   ]
  },
  {
   "cell_type": "code",
   "execution_count": 43,
   "metadata": {
    "collapsed": false
   },
   "outputs": [
    {
     "data": {
      "text/plain": [
       "'28/11/2017  19h46'"
      ]
     },
     "execution_count": 43,
     "metadata": {},
     "output_type": "execute_result"
    }
   ],
   "source": [
    "r = requests.get(url)\n",
    "soup = BeautifulSoup(r.text, \"lxml\")\n",
    "article_body = soup.find(name=\"div\", class_ = \"content\", itemprop = \"articleBody\")\n",
    "paragraphs = article_body.find_all(name=\"p\")\n",
    "paragraphs\n",
    "headline = soup.find(name= \"h1\", itemprop = \"headline\").text\n",
    "headline\n",
    "date_published = soup.article.time.text.strip()"
   ]
  },
  {
   "cell_type": "markdown",
   "metadata": {
    "collapsed": false
   },
   "source": [
    "## Teste do Crawler da Folha"
   ]
  },
  {
   "cell_type": "code",
   "execution_count": 2,
   "metadata": {
    "collapsed": false
   },
   "outputs": [],
   "source": [
    "scrapper = NewsScrapperFolha()\n",
    "results = scrapper.getNewsArticlesParsed([\"temer\", \"pmdb\"], 1)"
   ]
  },
  {
   "cell_type": "code",
   "execution_count": 10,
   "metadata": {
    "collapsed": false
   },
   "outputs": [
    {
     "data": {
      "text/plain": [
       "['O presidente do PMDB, Romero Jucá (RR), defendeu que a apresentadora do programa do partido que foi ao ar nesta terça (28) fosse negra.',\n",
       " 'O argumento de Jucá, que é uma das estrelas da peça, era que seria preciso dar \"uma cara mais brasileira\" ao discurso do vídeo, que destacou números atribuídos ao governo Michel Temer e atacou diretamente o empresário Joesley Batista e o ex-procurador-geral da República Rodrigo Janot. Mas o senador foi voto vencido.',\n",
       " 'A atriz Fernanda Hamacek, 42, loira de olhos claros, faz vídeos para o PMDB há pelo menos cinco anos, e a equipe de comunicação do partido defendeu que a \"identidade\" com seu rosto deveria ser mantida.',\n",
       " 'Mineira de Belo Horizonte, Fernanda trabalha para campanhas políticas, programas de TV e também como mestre de cerimônias.',\n",
       " 'Propaganda PMDB',\n",
       " 'Diz que seu nome ficou mais conhecido depois que participou de um programa de vendas em um canal da TV paga, mas que já trabalhou com locução, comerciais de shoppings e até de rede de supermercados.',\n",
       " 'A ela foi incumbida a tarefa de fazer as falas mais duras contra Joesley e Janot e proliferar a tese do governo de que uma \"prova falsa\" utilizada pelo então procurador-geral provocou uma grave crise.',\n",
       " 'O presidente relutou em retomar os ataques aos personagens da crise da JBS, mas aceitou contanto que não fosse ele quem fizesse novamente as acusações.',\n",
       " 'As falas sobre o caso e as comparações entre o governo de Temer e as gestões do PT ficam a cargo de Fernanda e de caciques do partido, como Jucá e o presidente do Senado, Eunício Oliveira (CE).',\n",
       " '\"Além de atentar contra a honra do presidente, a falsa prova provocou uma das maiores crises políticas, paralisando uma agenda positiva e importantíssima para a recuperação econômica\", diz ela.']"
      ]
     },
     "execution_count": 10,
     "metadata": {},
     "output_type": "execute_result"
    }
   ],
   "source": [
    "results[4].texts"
   ]
  }
 ],
 "metadata": {
  "anaconda-cloud": {},
  "kernelspec": {
   "display_name": "Python [conda root]",
   "language": "python",
   "name": "conda-root-py"
  },
  "language_info": {
   "codemirror_mode": {
    "name": "ipython",
    "version": 3
   },
   "file_extension": ".py",
   "mimetype": "text/x-python",
   "name": "python",
   "nbconvert_exporter": "python",
   "pygments_lexer": "ipython3",
   "version": "3.5.2"
  }
 },
 "nbformat": 4,
 "nbformat_minor": 2
}
