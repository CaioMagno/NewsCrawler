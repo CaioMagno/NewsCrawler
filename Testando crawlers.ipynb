{
 "cells": [
  {
   "cell_type": "code",
   "execution_count": 1,
   "metadata": {
    "collapsed": false
   },
   "outputs": [],
   "source": [
    "import requests\n",
    "from bs4 import BeautifulSoup\n",
    "from NewsCrawler import NewsScrapperG1, NewsScrapperFolha"
   ]
  },
  {
   "cell_type": "code",
   "execution_count": 34,
   "metadata": {
    "collapsed": false
   },
   "outputs": [],
   "source": [
    "# r = requests.get(\"https://t.co/Rga5Lfeqku\")\n",
    "r = requests.get(\"https://t.co/Az0Og9IRKO\")\n",
    "soup = BeautifulSoup(r.text, \"lxml\")\n",
    "\n",
    "scripts = soup.find_all(name=\"script\")\n",
    "\n",
    "# h3=soup.find_all(name=\"h3\", class_=\"search-results-title\")\n",
    "# h3\n",
    "# url = h3[0].a[\"href\"]\n",
    "\n"
   ]
  },
  {
   "cell_type": "code",
   "execution_count": 35,
   "metadata": {
    "collapsed": false
   },
   "outputs": [
    {
     "data": {
      "text/plain": [
       "[]"
      ]
     },
     "execution_count": 35,
     "metadata": {},
     "output_type": "execute_result"
    }
   ],
   "source": [
    "import re\n",
    "s = scripts[2]\n",
    "matches = re.findall('CANONICAL_URL: \\\"(.+)\\\"',s.text)\n",
    "matches"
   ]
  },
  {
   "cell_type": "code",
   "execution_count": 12,
   "metadata": {
    "collapsed": false
   },
   "outputs": [
    {
     "data": {
      "text/plain": [
       "['http://www1.folha.uol.com.br/opiniao/2017/11/1939347-um-plano-real-de-combate-a-corrupcao.shtml',\n",
       " 'http://www1.folha.uol.com.br/colunas/matiasspektor/2017/11/1939393-portugal-tem-conexao-com-a-bandidagem-brasileira.shtml',\n",
       " 'http://www1.folha.uol.com.br/poder/2017/11/1939418-a-pf-renan-nega-amizade-com-lobista-que-disse-frequentar-casa-do-senador.shtml',\n",
       " 'http://www1.folha.uol.com.br/colunas/viniciustorres/2017/11/1939401-brasilia-nao-tem-medo-da-ruina.shtml',\n",
       " 'http://www1.folha.uol.com.br/colunas/sergio-rodrigues/2017/11/1939375-bestialogico-o-democratico-festival-de-asneiras-que-assola-a-internet.shtml',\n",
       " 'http://www1.folha.uol.com.br/colunas/robertodias/2017/11/1939356-suicidio-em-haia-lembra-que-reveses-da-globalizacao-nao-incluem-a-justica.shtml',\n",
       " 'http://www1.folha.uol.com.br/poder/2017/11/1939353-temer-foi-resistente-a-expor-caso-jbs-na-tv.shtml',\n",
       " 'http://www1.folha.uol.com.br/colunas/bernardomellofranco/2017/11/1939396-o-passeio-de-eike.shtml',\n",
       " 'http://www1.folha.uol.com.br/poder/2017/11/1939342-stf-aumenta-numero-de-juizes-para-acelerar-processos.shtml',\n",
       " 'http://www1.folha.uol.com.br/poder/2017/11/1939256-sou-um-soldado-do-brasil-diz-eike-em-depoimento-a-cpi-do-bndes.shtml',\n",
       " 'http://www1.folha.uol.com.br/poder/2017/11/1939220-so-pode-ser-brincadeira-diz-janot-sobre-critica-a-investigacao-de-mala.shtml',\n",
       " 'http://www1.folha.uol.com.br/poder/2017/11/1939219-mpf-denuncia-cunha-henrique-alves-e-funaro-por-lavagem-de-dinheiro.shtml',\n",
       " 'http://www1.folha.uol.com.br/poder/2017/11/1939158-o-psdb-nao-esta-mais-na-base-do-governo-afirma-padilha.shtml',\n",
       " 'http://www1.folha.uol.com.br/poder/2017/11/1939152-pf-suspeita-que-aecio-usou-celulares-de-laranjas-para-ligacoes-secretas.shtml',\n",
       " 'http://www1.folha.uol.com.br/colunas/marcostroyjo/2017/11/1939136-dez-razoes-que-fazem-do-brasil-um-serial-killer-de-oportunidades.shtml',\n",
       " 'http://www1.folha.uol.com.br/colunas/bernardomellofranco/2017/11/1939063-o-delator-e-os-delatados.shtml',\n",
       " 'http://www1.folha.uol.com.br/poder/2017/11/1939070-ministerio-publico-deve-ser-aberto-a-critica-diz-procurador-do-caso-jbs.shtml',\n",
       " 'http://www1.folha.uol.com.br/opiniao/2017/11/1939045-pax-tucana.shtml',\n",
       " 'http://www1.folha.uol.com.br/poder/2017/11/1939058-fortalecido-alckmin-encara-novos-obstaculos-para-2018.shtml',\n",
       " 'http://www1.folha.uol.com.br/colunas/igorgielow/2017/11/1938906-alckmin-e-virtual-candidato-em-2018-mas-estilo-ainda-preocupa-seus-aliados.shtml',\n",
       " 'http://www1.folha.uol.com.br/poder/2017/11/1939017-geddel-e-socio-de-seis-predios-de-luxo-na-ba-diz-empreiteiro.shtml',\n",
       " 'http://www1.folha.uol.com.br/poder/2017/11/1939002-stf-nega-liberdade-a-cunha-fachin-fala-em-especial-periculosidade.shtml',\n",
       " 'http://www1.folha.uol.com.br/poder/2017/11/1938871-acre-tera-chapa-majoritaria-com-tres-petistas.shtml',\n",
       " 'http://www1.folha.uol.com.br/mercado/2017/11/1938852-segovia-negocia-idade-minima-para-aposentadoria-de-policiais-federais.shtml',\n",
       " 'http://www1.folha.uol.com.br/poder/2017/11/1938856-mpf-apresenta-suposta-planilha-de-gastos-da-odebrecht-com-reformas-em-atibaia.shtml']"
      ]
     },
     "execution_count": 12,
     "metadata": {},
     "output_type": "execute_result"
    }
   ],
   "source": [
    "url = [htmlBlock.find(\"a\")[\"href\"] for htmlBlock in h3]\n",
    "url"
   ]
  },
  {
   "cell_type": "code",
   "execution_count": 43,
   "metadata": {
    "collapsed": false
   },
   "outputs": [
    {
     "data": {
      "text/plain": [
       "'28/11/2017  19h46'"
      ]
     },
     "execution_count": 43,
     "metadata": {},
     "output_type": "execute_result"
    }
   ],
   "source": [
    "r = requests.get(url)\n",
    "soup = BeautifulSoup(r.text, \"lxml\")\n",
    "article_body = soup.find(name=\"div\", class_ = \"content\", itemprop = \"articleBody\")\n",
    "paragraphs = article_body.find_all(name=\"p\")\n",
    "paragraphs\n",
    "headline = soup.find(name= \"h1\", itemprop = \"headline\").text\n",
    "headline\n",
    "date_published = soup.article.time.text.strip()"
   ]
  },
  {
   "cell_type": "markdown",
   "metadata": {},
   "source": [
    "## Teste do Crawler do G1"
   ]
  },
  {
   "cell_type": "code",
   "execution_count": 2,
   "metadata": {
    "collapsed": false
   },
   "outputs": [
    {
     "data": {
      "text/plain": [
       "Article(url='https://t.co/WG9KFMPMvD', date='28/02/2018 11h12', headline=\"Jungmann defende direitos de presos e critica 'atalhos fora da lei' para a crise carcerária\", subtitle='Recém-empossado ministro da Segurança Pública fez discurso em sessão do Conselho Nacional de Justiça. Para ele, um Estado que não respeita direitos humanos se nivela ao crime.', content=[' O ministro da Segurança Pública, Raul Jungmann, defendeu nesta quarta-feira (28) o respeito aos direitos de presos e criminosos e criticou o discurso que prega o uso de “atalhos fora da lei” para lidar com a situação carcerária no país. ', ' Recém-empossado no cargo, Jungmann deu a declaração durante discurso na sessão do Conselho NAcioanl de Justiça (CNJ). Ele foi apresentado ao novo banco de dados desenvolvido pelo órgão para acompanhamento dos processos e do sistema prisional. ', ' “A humanização do sistema carcerário representa uma afirmação da civilização sobre a barbárie. Não é porque alguém cometeu delitos, sejam da gravidade que for, que a integridade da pessoa humana pode ser diminuída ou desdenhada\", afirmou. ', ' O ministro disse ainda que hoje em dia é \"fácil\" ouvir discursos que defendem soluções \"abaixo dos direitos humanos\". Segundo ele, um Estado que não respeita os direitos humanos se nivela ao crime. ', ' \"Porque, se assim permitirmos, nós nos igualamos aos criminosos, abrimos a porta da barbárie e hoje é tão fácil ouvir discursos que fazem a defesa dos atalhos fora da lei, dos atalhos abaixo dos direitos humanos. Um estado que combate fora da lei ou sem respeitar os direitos humanos, o crime se nivela a ele”. ', ' A presidente do Supremo Tribunal Federal (STF), ministra Cármen Lúcia, que preside o CNJ, também pregou o respeito aos direitos de quem comete crimes. ', ' \"Estamos no Estado democrático de direito. Portanto, os direitos de todos têm que ser respeitados. Os direitos dos cidadãos trabalhadores de viver em paz, de dormir em sossego, de não ficar de sobressalto toda a noite quando há um ruído perto de casa. E é preciso também que se cumpra a lei com aqueles que, tendo de alguma forma errado, cumpram com seus erros com as penas que foram devidamente fixas, não de maneira desumana, que não é o que se pretende\", disse. ', '', ' O novo sistema de dados, batizado de Banco Nacional de Monitoramento de Prisões, está em fase de implantação. Ele será abastecido pelos tribunais estaduais. ', ' Os Judiciários de oitos estados já passaram por treinamento e começaram a inserir os dados no programa. Até o momento, apenas Roraima concluiu esse processo. Até o momento, apenas 41.572 pessoas presas estão cadastradas. ', ' Os demais estados deverão ser treinados até o fim de março e a expectativa é a de que até o fim de maio todos os tribunais estejam usando o BNMP. ', ' Hoje, os números disponíveis sobre o sistema carcerário são concentrados basicamente no Levantamento Nacional de Informações Penitenciárias (Infopen), divulgado pelo Ministério da Justiça. ', ' No último balanço, publicado em dezembro de 2017 com dados de junho de 2016, mostrou que a população carcerária do Brasil atingiu a marca de 726,7 mil presos. ', ' No entanto, os dados são repassados pelos gestores dos estabelecimentos prisionais e muitas vezes não há precisão. ', ' \"Há falta de informações precisas sobre o número de presos\", criticou a ministra Cármen Lúcia. Segundo ela, estatísticas diferentes apontam que existem de 650 a 722 mil presos no país, o que mostra que há erro nesse universo. \"Não é possível que [esse número] possa ser considerado uma aproximação\", disse. ', ' A diferença em relação ao novo sistema do CNJ, segundo o secretário-geral do conselho, Julio Ferreira de Andrade, é que as informações sobre presos serão fornecidas pelos tribunais estaduais e não dependerá mais do envio pelos governos estaduais. Ele explicou que a ferramenta evitará a duplicidade de informações e a atualização será automática. '])"
      ]
     },
     "execution_count": 2,
     "metadata": {},
     "output_type": "execute_result"
    }
   ],
   "source": [
    "from Twitterbot_files.NewsParser import *\n",
    "\n",
    "url = \"https://t.co/WG9KFMPMvD\"\n",
    "a = NewsParserG1(url)\n",
    "a.parsePage()"
   ]
  },
  {
   "cell_type": "markdown",
   "metadata": {
    "collapsed": false
   },
   "source": [
    "## Teste do Crawler da Folha"
   ]
  },
  {
   "cell_type": "code",
   "execution_count": 11,
   "metadata": {
    "collapsed": false
   },
   "outputs": [],
   "source": [
    "scrapper = NewsScrapperFolha()\n",
    "results = scrapper.getNewsArticlesParsed([\"lava\", \"jato\"], 1)"
   ]
  },
  {
   "cell_type": "code",
   "execution_count": 13,
   "metadata": {
    "collapsed": false
   },
   "outputs": [
    {
     "data": {
      "text/plain": [
       "'Advogado diz que extratos usados por Janot contra Temer são falsos'"
      ]
     },
     "execution_count": 13,
     "metadata": {},
     "output_type": "execute_result"
    }
   ],
   "source": [
    "results[4].headline"
   ]
  },
  {
   "cell_type": "code",
   "execution_count": 3,
   "metadata": {
    "collapsed": false
   },
   "outputs": [
    {
     "data": {
      "text/plain": [
       "Article(url='https://t.co/h3WgaLBb1q', date='28.fev.2018 às  2h00', headline=\"\\n    Após UnB, Unicamp cria disciplina sobre 'golpe de 2016'\\n  \", subtitle=\"Professores criaram curso em 'solidariedade' a professor de Brasília\", content=['Depois de o Ministério da Educação reagir negativamente a um curso da UnB (Universidade de Brasília) intitulado \"O golpe de 2016 e o futuro da democracia no Brasil\", a Unicamp vai realizar disciplina optativa, aberta ao público, de mesmo tema e nome.', 'Estão previstas aulas como \"A fragilidade da democracia brasileira\", \"As políticas do governo golpista\", \"A nova direita\", \"O jogo político do STF e o golpe\", \"O ataque à educação\" e \"As reformas trabalhista e previdenciária\".', 'Assuntos sobre direitos das mulheres, comunidades quilombolas, população indígena, artes e meio ambiente também estão no programa.', 'Segundo Wagner Romão, professor de ciência política da Unicamp, a intervenção federal na segurança pública do Rio também será discutida.', 'Ao menos 30 professores da universidade vão lecionar no curso. Com duração prevista de três meses, as aulas serão realizadas no IFCH (Instituto de Filosofia e Ciências Humanas), até maio.', 'Perguntado sobre as bases teóricas do curso, o professor do IFCH Armando Boito Júnior afirmou que \"cada professor vai dar aula sobre o tema que pesquisa\". \"São pesquisadores e especialistas no assunto, ninguém vai lá para dar opinião\", diz.', 'Também professora do instituto, a cientista política Andreia Galvão diz que há pesquisas sobre o impeachment de Dilma Rousseff desde o início do processo e este momento é uma oportunidade de trazê-las a público.\\xa0', 'A bibliografia das aulas ainda não foi divulgada. Além da ciência política, professores de Unicamp de áreas como antropologia, história, sociologia, economia e linguística confirmaram presença nas atividades.', 'O caso da UnB levou o Ministério da Educação a pedir apuração sobre a possibilidade de seus criadores terem cometido improbidade administrativa. O ministro Mendonça Filho pediu que órgãos de investigação avaliassem se a universidade pode alocar professores \"para promover uma disciplina que não tem nenhuma base na ciência, é apenas promoção de uma tese de um partido político\".', 'Para Boito Júnior, da Unicamp, o MEC não respeitou a autonomia universitária e a liberdade de expressão, além de não ter direito de intervir no conteúdo pedagógico de uma universidade.\\xa0', '\"Se ele [Mendonça Filho] acha que o curso da UnB é propaganda de um partido político, é problema dele. A universidade não tem que dar satisfação\", disse.\\xa0', 'Segundo Andreia Galvão, o curso também é uma forma de solidariedade com o professor que ministrará a disciplina em Brasília, Luis Felipe Miguel. Ela diz que não tem previsão de quantas pessoas devem participar das aulas.', 'O posicionamento do ministro em relação à UnB foi parar na Comitê\\xa0de Ética Pública da Presidência. Procurado, o MEC afirmou que a representação \"mostra a inversão de valores típica do modo petista de operar\"\\xa0e defendeu a postura de Mendonça Filho.\\xa0\"O ministro da Educação está cumprindo o papel constitucional de solicitar apuração do bom uso de recursos públicos, sob pena de, se não fizer, responder por omissão\".\\r\\n\\xa0'])"
      ]
     },
     "execution_count": 3,
     "metadata": {},
     "output_type": "execute_result"
    }
   ],
   "source": [
    "from Twitterbot_files.NewsParser import *\n",
    "\n",
    "a = NewsParserFolha(\"https://t.co/h3WgaLBb1q\")\n",
    "a.parsePage()"
   ]
  },
  {
   "cell_type": "markdown",
   "metadata": {},
   "source": [
    "## Crawler para Estadão"
   ]
  },
  {
   "cell_type": "code",
   "execution_count": 2,
   "metadata": {
    "collapsed": false
   },
   "outputs": [
    {
     "ename": "AttributeError",
     "evalue": "'NoneType' object has no attribute 'text'",
     "output_type": "error",
     "traceback": [
      "\u001b[0;31m---------------------------------------------------------------------------\u001b[0m",
      "\u001b[0;31mAttributeError\u001b[0m                            Traceback (most recent call last)",
      "\u001b[0;32m<ipython-input-2-3a28d24e8a31>\u001b[0m in \u001b[0;36m<module>\u001b[0;34m()\u001b[0m\n\u001b[1;32m      9\u001b[0m \u001b[0msoup\u001b[0m \u001b[0;34m=\u001b[0m \u001b[0mBeautifulSoup\u001b[0m\u001b[0;34m(\u001b[0m\u001b[0mr\u001b[0m\u001b[0;34m.\u001b[0m\u001b[0mtext\u001b[0m\u001b[0;34m,\u001b[0m \u001b[0;34m\"lxml\"\u001b[0m\u001b[0;34m)\u001b[0m\u001b[0;34m\u001b[0m\u001b[0m\n\u001b[1;32m     10\u001b[0m \u001b[0;34m\u001b[0m\u001b[0m\n\u001b[0;32m---> 11\u001b[0;31m \u001b[0mheadline\u001b[0m \u001b[0;34m=\u001b[0m \u001b[0msoup\u001b[0m\u001b[0;34m.\u001b[0m\u001b[0mfind\u001b[0m\u001b[0;34m(\u001b[0m\u001b[0mname\u001b[0m\u001b[0;34m=\u001b[0m \u001b[0;34m\"h1\"\u001b[0m\u001b[0;34m,\u001b[0m \u001b[0mclass_\u001b[0m\u001b[0;34m=\u001b[0m\u001b[0;34m\"n--noticia__title\"\u001b[0m\u001b[0;34m)\u001b[0m\u001b[0;34m.\u001b[0m\u001b[0mtext\u001b[0m\u001b[0;34m\u001b[0m\u001b[0m\n\u001b[0m\u001b[1;32m     12\u001b[0m \u001b[0msubtitle\u001b[0m \u001b[0;34m=\u001b[0m \u001b[0msoup\u001b[0m\u001b[0;34m.\u001b[0m\u001b[0mfind\u001b[0m\u001b[0;34m(\u001b[0m\u001b[0mname\u001b[0m\u001b[0;34m=\u001b[0m \u001b[0;34m\"h2\"\u001b[0m\u001b[0;34m,\u001b[0m \u001b[0mclass_\u001b[0m\u001b[0;34m=\u001b[0m\u001b[0;34m\"n--noticia__subtitle\"\u001b[0m\u001b[0;34m)\u001b[0m\u001b[0;34m.\u001b[0m\u001b[0mtext\u001b[0m\u001b[0;34m\u001b[0m\u001b[0m\n\u001b[1;32m     13\u001b[0m \u001b[0mheadline\u001b[0m\u001b[0;34m,\u001b[0m \u001b[0msubtitle\u001b[0m\u001b[0;34m\u001b[0m\u001b[0m\n",
      "\u001b[0;31mAttributeError\u001b[0m: 'NoneType' object has no attribute 'text'"
     ]
    }
   ],
   "source": [
    "import unicodedata # para remover os caracteres especiais \\xa0\n",
    "url = \"http://politica.estadao.com.br/noticias/geral,ministros-candidatos-favorecem-bases-eleitorais,70002176804\"\n",
    "# url = \"https://t.co/Si3VUhjSw7\"\n",
    "\n",
    "\n",
    "r = requests.get(url)\n",
    "r.encoding = \"utf-8\"\n",
    "\n",
    "soup = BeautifulSoup(r.text, \"lxml\")\n",
    "\n",
    "headline = soup.find(name= \"h1\", class_=\"n--noticia__title\").text\n",
    "subtitle = soup.find(name= \"h2\", class_=\"n--noticia__subtitle\").text\n",
    "headline, subtitle\n",
    "\n",
    "date = list(soup.find(name = \"div\", class_ = \"n--noticia__state\").children)[3].text.strip()\n",
    "date\n",
    "\n",
    "# content = []\n",
    "# for paragraph in soup.find(name = \"div\", class_ = \"n--noticia__content\").p:\n",
    "#     content.append(paragraph)\n",
    "\n",
    "content_container = soup.find(name = \"div\", class_ = \"n--noticia__content\")\n",
    "content = [unicodedata.normalize(\"NFKD\", paragraph.text.strip()) for paragraph in content_container.find_all(name = \"p\")]\n",
    "content"
   ]
  },
  {
   "cell_type": "code",
   "execution_count": 4,
   "metadata": {
    "collapsed": false
   },
   "outputs": [
    {
     "data": {
      "text/plain": [
       "Article(url='https://t.co/fIDpOorEG8', date='27 Fevereiro 2018 | 11h21', headline='Defendo prisão em segunda instância após decisão do STJ, afirma Jobim', subtitle='O ex-ministro do STF destacou, no entanto, o tema não deve ser decidido para evitar ou permitir uma eventual prisão do ex-presidente Lula', content=['O ex-ministro do Supremo Tribunal Federal (STF) Nelson Jobim defendeu nesta terça-feira que a prisão de réus seja executada apenas após decisão no Superior Tribunal de Justiça (STJ), e não na segunda instância em tribunais federais, como é hoje.', '\"Sou favorável a essa solução no sentido global\", disse Jobim, citando a proposta levantada pelo ministro Dias Toffoli no STF. Ele destacou, entretanto, que o tema não deve ser decidido para evitar ou permitir uma eventual prisão do ex-presidente Luiz Inácio Lula da Silva, que tenta reverter condenação em segunda instância. \"Não pode o Supremo decidir porque fulano ou beltrano pode estar sujeito à prisão.\"', '+++ ‘Estado’ debate a reconstrução do País', '+++ Supremo se transformou em grande espetáculo televisivo, afirma Eros Grau', 'Receba no seu e-mail conteúdo de qualidade', 'Logo você receberá os melhores conteúdos em seu e-mail.', '', 'Ele criticou a forma como os ministros estão conduzindo a discussão sobre o tema, afirmando que \"tem ministro que não tem cumprido a própria decisão tomada no plenário\". \"O Supremo tem que ser um órgão plenário, e não um órgão de soma de vontades e conflitos individuais, como está acontecendo\", declarou.', 'VOTO IMPRESSO NÃO RESOLVE PROBLEMA DE ELEIÇÕES', 'No debate, o ex-ministro afirmou ainda que não acredita que o voto impresso na urna eletrônica vai resolver algum problema das eleições. \"Todo derrotado na eleição com urna eletrônica diz que é fraude, nunca uma derrota é alvo de processo por abuso do poder econômico, é sempre o vencedor\", apontou.', 'ELEIÇÃO NÃO É COMPETIÇÃO DE TRIBUNAIS, DIZ JOAQUIM FALCÃO', 'Complementando a discussão, o professor de Direito Constitucional Joaquim Falcão, da Fundação Getulio Vargas (FGV-RJ), afirmou que os tribunais judiciais no País se transformaram em partidos \"mais do que os partidos políticos\" para debater as regras eleitorais.', '\"Eleição é competição, e quem está competindo de verdade antes da urna não são os partidos, é o Tribunal Superior Eleitoral, que compete com o Superior Tribunal de Justiça, que compete com o Supremo, que compete com o tribunal do Rio Grande do Sul (TRF-4)\", disse.'])"
      ]
     },
     "execution_count": 4,
     "metadata": {},
     "output_type": "execute_result"
    }
   ],
   "source": [
    "a = NewsParserEstadao(\"https://t.co/fIDpOorEG8\")\n",
    "a.parsePage()"
   ]
  },
  {
   "cell_type": "markdown",
   "metadata": {},
   "source": [
    "## Parser UOL"
   ]
  },
  {
   "cell_type": "code",
   "execution_count": 44,
   "metadata": {
    "collapsed": false
   },
   "outputs": [],
   "source": [
    "from Twitterbot_files.NewsParser import *\n",
    "\n",
    "a = NewsParserUolPolitica(\"https://t.co/gVkTod3Bre\")\n",
    "a.parsePage()"
   ]
  },
  {
   "cell_type": "markdown",
   "metadata": {},
   "source": [
    "## Parser O Globo"
   ]
  },
  {
   "cell_type": "code",
   "execution_count": null,
   "metadata": {
    "collapsed": true
   },
   "outputs": [],
   "source": [
    "url = \"https://t.co/9uqQJd7vit\"\n"
   ]
  }
 ],
 "metadata": {
  "anaconda-cloud": {},
  "kernelspec": {
   "display_name": "Python [conda root]",
   "language": "python",
   "name": "conda-root-py"
  },
  "language_info": {
   "codemirror_mode": {
    "name": "ipython",
    "version": 3
   },
   "file_extension": ".py",
   "mimetype": "text/x-python",
   "name": "python",
   "nbconvert_exporter": "python",
   "pygments_lexer": "ipython3",
   "version": "3.5.2"
  }
 },
 "nbformat": 4,
 "nbformat_minor": 2
}
