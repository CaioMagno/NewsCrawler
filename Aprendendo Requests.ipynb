{
 "cells": [
  {
   "cell_type": "code",
   "execution_count": 1,
   "metadata": {
    "collapsed": false
   },
   "outputs": [],
   "source": [
    "import requests\n",
    "from bs4 import BeautifulSoup\n",
    "from NewsCrawler import NewsScrapperG1"
   ]
  },
  {
   "cell_type": "code",
   "execution_count": 10,
   "metadata": {
    "collapsed": false
   },
   "outputs": [
    {
     "data": {
      "text/plain": [
       "time.struct_time(tm_year=2017, tm_mon=11, tm_mday=16, tm_hour=12, tm_min=34, tm_sec=0, tm_wday=3, tm_yday=320, tm_isdst=-1)"
      ]
     },
     "execution_count": 10,
     "metadata": {},
     "output_type": "execute_result"
    }
   ],
   "source": [
    "import time\n",
    "\n",
    "r = requests.get(\"https://g1.globo.com/politica/blog/andreia-sadi/noticia/com-troca-de-imbassahy-temer-quer-atender-pmdb-e-maia-com-aval-do-pp.ghtml\")\n",
    "soup = BeautifulSoup(r.text, \"lxml\")\n",
    "timestamp = soup.find(name=\"time\", itemprop = \"datePublished\").text.strip()\n",
    "\n",
    "time_format = \"%d/%m/%Y %Hh%M\"\n",
    "c = time.strptime(timestamp, time_format)\n",
    "c"
   ]
  },
  {
   "cell_type": "code",
   "execution_count": 2,
   "metadata": {
    "collapsed": false
   },
   "outputs": [],
   "source": [
    "keywords = [\"lava\", \"jato\", \"temer\", \"joesley\"]\n",
    "scrapper = NewsScrapperG1()\n",
    "parsed = scrapper.getNewsArticlesParsed(keywords, 1)"
   ]
  },
  {
   "cell_type": "code",
   "execution_count": 11,
   "metadata": {
    "collapsed": false
   },
   "outputs": [
    {
     "data": {
      "text/plain": [
       "'http://g1.globo.com/jornal-nacional/noticia/2017/11/cunha-depoe-e-nega-acusacoes-do-operador-lucio-funaro.html'"
      ]
     },
     "execution_count": 11,
     "metadata": {},
     "output_type": "execute_result"
    }
   ],
   "source": [
    "parsed[5].url"
   ]
  }
 ],
 "metadata": {
  "anaconda-cloud": {},
  "kernelspec": {
   "display_name": "Python [conda root]",
   "language": "python",
   "name": "conda-root-py"
  },
  "language_info": {
   "codemirror_mode": {
    "name": "ipython",
    "version": 3
   },
   "file_extension": ".py",
   "mimetype": "text/x-python",
   "name": "python",
   "nbconvert_exporter": "python",
   "pygments_lexer": "ipython3",
   "version": "3.5.2"
  }
 },
 "nbformat": 4,
 "nbformat_minor": 2
}
