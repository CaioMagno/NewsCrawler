{
 "cells": [
  {
   "cell_type": "code",
   "execution_count": 11,
   "metadata": {
    "collapsed": false
   },
   "outputs": [],
   "source": [
    "from Twitterbot_files import *\n",
    "from Twitterbot_files import credentials, NewswireIds\n",
    "from Twitterbot_files import TwitterConnection\n",
    "\n",
    "import tweepy"
   ]
  },
  {
   "cell_type": "code",
   "execution_count": 2,
   "metadata": {
    "collapsed": false
   },
   "outputs": [],
   "source": [
    "auth, api = TwitterConnection.twitter_connect()"
   ]
  },
  {
   "cell_type": "code",
   "execution_count": 33,
   "metadata": {
    "collapsed": false,
    "scrolled": true
   },
   "outputs": [
    {
     "name": "stdout",
     "output_type": "stream",
     "text": [
      "2018-03-07 : @g1politica Agorinha mesmo vai aparecer um demente e dizer \"Anita pra presidente\" 😂\n",
      "2018-03-07 : @aElusiveYouth @g1politica pq as mulheres constituem a sociedade logo os parlamentos estao desiguais\n",
      "2018-03-07 : @g1politica Mulher não se interessa, é por isso. Ponto final.\n",
      "2018-03-07 : @g1politica O BRASIL PRECISA APRENDER A RESPEITAR E VALORIZAR O IDOSO E TODOS SEUS SABERES E VIVERES! Tenho MESTRADO em GERONTOLOGIA SOCIAL.\n",
      "2018-03-07 : @g1politica Como no Brasil tem mais mulheres que homens...chegamos à conclusão que mulheres não votam em mulheres!!! Que beleza!!!\n",
      "2018-03-07 : @g1politica Se a mentalidade e a política continuarem a adotar a Cultura do estado Grande(imenso) não tem como .\n",
      "2018-03-07 : @g1politica Mas por que isso é relevante?\n",
      "2018-03-07 : @g1politica hey papai, @LulapeloBrasil .. vai no STF e procura o gilmar mendes\n",
      "2018-03-07 : @g1politica 👏👏👏👏👏👏👏👏👏👏👏👏👏👏\n",
      "2018-03-07 : @g1politica Atira para todos os lados?\n",
      "2018-03-07 : @g1politica Padilha: a cara da Lava Jato. Fruto da impunidade.\n",
      "2018-03-07 : @g1politica Que novidade!!\n",
      "2018-03-07 : @g1politica Verdadeiros palhaços...tudo isso e uma farça para a eleição desse Ano..realmente pensam q o Povo e IDIOTA\n",
      "2018-03-07 : @g1politica A solução  está na mudança de leis...\n"
     ]
    }
   ],
   "source": [
    "for page in tweepy.Cursor(api.search, q = \"g1politica\", show_user = True).pages(10):\n",
    "    for status in page:\n",
    "        if status.in_reply_to_status_id != None:\n",
    "            print(status.created_at.date(), \":\", status.text)"
   ]
  },
  {
   "cell_type": "code",
   "execution_count": null,
   "metadata": {
    "collapsed": false
   },
   "outputs": [],
   "source": [
    "status = api.get_status(971373017870761985, tweet_mode = \"extended\")\n"
   ]
  },
  {
   "cell_type": "code",
   "execution_count": 31,
   "metadata": {
    "collapsed": false
   },
   "outputs": [
    {
     "data": {
      "text/plain": [
       "False"
      ]
     },
     "execution_count": 31,
     "metadata": {},
     "output_type": "execute_result"
    }
   ],
   "source": [
    "status.retweeted"
   ]
  }
 ],
 "metadata": {
  "anaconda-cloud": {},
  "kernelspec": {
   "display_name": "Python [conda root]",
   "language": "python",
   "name": "conda-root-py"
  },
  "language_info": {
   "codemirror_mode": {
    "name": "ipython",
    "version": 3
   },
   "file_extension": ".py",
   "mimetype": "text/x-python",
   "name": "python",
   "nbconvert_exporter": "python",
   "pygments_lexer": "ipython3",
   "version": "3.5.2"
  }
 },
 "nbformat": 4,
 "nbformat_minor": 2
}
